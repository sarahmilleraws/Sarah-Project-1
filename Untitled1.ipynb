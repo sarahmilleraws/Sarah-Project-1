{
  "nbformat": 4,
  "nbformat_minor": 0,
  "metadata": {
    "colab": {
      "name": "Untitled1.ipynb",
      "provenance": [],
      "collapsed_sections": [],
      "authorship_tag": "ABX9TyO56qD6vPVNcqTau40UB4YW",
      "include_colab_link": true
    },
    "kernelspec": {
      "name": "python3",
      "display_name": "Python 3"
    }
  },
  "cells": [
    {
      "cell_type": "markdown",
      "metadata": {
        "id": "view-in-github",
        "colab_type": "text"
      },
      "source": [
        "<a href=\"https://colab.research.google.com/github/sarahmilleraws/Sarah-Project-1/blob/main/Untitled1.ipynb\" target=\"_parent\"><img src=\"https://colab.research.google.com/assets/colab-badge.svg\" alt=\"Open In Colab\"/></a>"
      ]
    },
    {
      "cell_type": "code",
      "metadata": {
        "id": "hcrlFoUGSL0Z",
        "colab": {
          "base_uri": "https://localhost:8080/"
        },
        "outputId": "48d8aaa5-c73c-4b66-ddf7-59015e72aa83"
      },
      "source": [
        "cost_value = float(input(\"Enter the cost value\"))\r\n",
        "\r\n",
        "sell_value = float(input(\"Enter the sell value\"))\r\n",
        "\r\n",
        "inventory = int(input(\"Enter inventory\"))\r\n",
        "\r\n",
        "total_profit = inventory *((sell_value) - (cost_value))\r\n",
        "\r\n",
        "print(round(total_profit))\r\n"
      ],
      "execution_count": null,
      "outputs": [
        {
          "output_type": "stream",
          "text": [
            "Enter the cost value71.88\n",
            "Enter the sell value98.88\n",
            "Enter inventory500\n",
            "13500\n"
          ],
          "name": "stdout"
        }
      ]
    },
    {
      "cell_type": "code",
      "metadata": {
        "colab": {
          "base_uri": "https://localhost:8080/"
        },
        "id": "Ji2KUf5xoPPH",
        "outputId": "b9ac2233-26b9-47a7-80f4-9457ba450254"
      },
      "source": [
        "sell_value= 45.00\r\n",
        "cost_value=31.87\r\n",
        "\r\n",
        "total_profit =((sell_value)-(cost_value))*1000\r\n",
        "\r\n",
        "print(total_profit)\r\n",
        "\r\n",
        "print(round(total_profit))"
      ],
      "execution_count": null,
      "outputs": [
        {
          "output_type": "stream",
          "text": [
            "13129.999999999998\n",
            "13130\n"
          ],
          "name": "stdout"
        }
      ]
    },
    {
      "cell_type": "code",
      "metadata": {
        "id": "q-z7AjqNxqBw"
      },
      "source": [
        ""
      ],
      "execution_count": null,
      "outputs": []
    },
    {
      "cell_type": "code",
      "metadata": {
        "colab": {
          "base_uri": "https://localhost:8080/"
        },
        "id": "F58DI3Cgr-0s",
        "outputId": "ae4e382c-09c6-47e9-f764-6d12c4702bd7"
      },
      "source": [
        "payroll = float(input(\"Enter the pay\"))\r\n",
        "\r\n",
        "print(\"${:.2f}\".format(payroll))\r\n",
        "\r\n"
      ],
      "execution_count": null,
      "outputs": [
        {
          "output_type": "stream",
          "text": [
            "Enter the pay29.98\n",
            "$29.98\n"
          ],
          "name": "stdout"
        }
      ]
    },
    {
      "cell_type": "code",
      "metadata": {
        "colab": {
          "base_uri": "https://localhost:8080/"
        },
        "id": "-k0T0_fDqyOk",
        "outputId": "d040adca-497b-4d41-e95a-1a90d85d57e9"
      },
      "source": [
        "tuple_1=(\"solar\",)\r\n",
        "print(tuple_1)"
      ],
      "execution_count": null,
      "outputs": [
        {
          "output_type": "stream",
          "text": [
            "('solar',)\n"
          ],
          "name": "stdout"
        }
      ]
    },
    {
      "cell_type": "code",
      "metadata": {
        "id": "nhPyClyFBumH",
        "colab": {
          "base_uri": "https://localhost:8080/"
        },
        "outputId": "cafaac89-7e27-46de-c3a6-8f0324693603"
      },
      "source": [
        "city = [\"Istanbul\", \"Izmir\", \"Manisa\", \"Eskisehir\"]\r\n",
        "\r\n",
        "print(city.sort(len(city))\r\n",
        "\r\n",
        "print(city.pop(0))"
      ],
      "execution_count": null,
      "outputs": [
        {
          "output_type": "stream",
          "text": [
            "Istanbul\n"
          ],
          "name": "stdout"
        }
      ]
    },
    {
      "cell_type": "code",
      "metadata": {
        "colab": {
          "base_uri": "https://localhost:8080/"
        },
        "id": "V5cLm-ZaQbPI",
        "outputId": "21f4a867-b136-49d1-a2ce-842fcf26cef9"
      },
      "source": [
        "sequence=[1,2,3,4,1,5]\r\n",
        "\r\n",
        "print(min(sequence))\r\n",
        "\r\n",
        "print(max(sequence))\r\n",
        "\r\n",
        "print(sequence.count(1))\r\n",
        "\r\n",
        "print(max(sequence, key=sequence.count))"
      ],
      "execution_count": null,
      "outputs": [
        {
          "output_type": "stream",
          "text": [
            "1\n",
            "5\n",
            "2\n",
            "1\n"
          ],
          "name": "stdout"
        }
      ]
    },
    {
      "cell_type": "code",
      "metadata": {
        "colab": {
          "base_uri": "https://localhost:8080/"
        },
        "id": "w71Xp9KUjULW",
        "outputId": "1656d443-dbdc-4e00-8833-ce68ca1a2cb0"
      },
      "source": [
        "x=(5+3j)\r\n",
        "print(type(x))"
      ],
      "execution_count": null,
      "outputs": [
        {
          "output_type": "stream",
          "text": [
            "<class 'complex'>\n"
          ],
          "name": "stdout"
        }
      ]
    },
    {
      "cell_type": "code",
      "metadata": {
        "colab": {
          "base_uri": "https://localhost:8080/"
        },
        "id": "jPm_5XABmxdU",
        "outputId": "5f0c96a6-d26c-4cfb-bb2b-7f6dcf3aa172"
      },
      "source": [
        "set_1 = {'red', 'blue', 'pink', 'red'}\r\n",
        "colors = 'red', 'blue', 'pink', 'red'\r\n",
        "set_2 = set(colors)\r\n",
        "print(set_1)\r\n",
        "#print(set_2)"
      ],
      "execution_count": null,
      "outputs": [
        {
          "output_type": "stream",
          "text": [
            "{'red', 'blue', 'pink'}\n"
          ],
          "name": "stdout"
        }
      ]
    },
    {
      "cell_type": "code",
      "metadata": {
        "colab": {
          "base_uri": "https://localhost:8080/"
        },
        "id": "Ar4DVDiwnqAx",
        "outputId": "f64249f9-8e37-4bee-fa1f-85a27e2af9fc"
      },
      "source": [
        "letter = \"a b c d e f g h i j k l m n o p r s t u v y z\".split()\r\n",
        "\r\n",
        "print(set(letter))\r\n",
        "\r\n",
        "print(letter)"
      ],
      "execution_count": null,
      "outputs": [
        {
          "output_type": "stream",
          "text": [
            "{'r', 'z', 'e', 'n', 'o', 'v', 'g', 'j', 'f', 'd', 'a', 'h', 't', 'u', 'l', 's', 'b', 'c', 'k', 'm', 'p', 'y', 'i'}\n",
            "['a', 'b', 'c', 'd', 'e', 'f', 'g', 'h', 'i', 'j', 'k', 'l', 'm', 'n', 'o', 'p', 'r', 's', 't', 'u', 'v', 'y', 'z']\n"
          ],
          "name": "stdout"
        }
      ]
    },
    {
      "cell_type": "code",
      "metadata": {
        "colab": {
          "base_uri": "https://localhost:8080/"
        },
        "id": "dHWtEwXgo4HS",
        "outputId": "6c9aba2c-d20d-4721-fc69-7d91acf160a7"
      },
      "source": [
        "flower_list = ['rose', 'violet', 'carnation', 'rose', 'orchid', 'rose', 'orchid']\r\n",
        "flowerset = set(flower_list)\r\n",
        "flowerlist = list(flowerset)\r\n",
        "print(flowerset)\r\n",
        "print(flowerlist)"
      ],
      "execution_count": null,
      "outputs": [
        {
          "output_type": "stream",
          "text": [
            "{'carnation', 'rose', 'orchid', 'violet'}\n",
            "['carnation', 'rose', 'orchid', 'violet']\n"
          ],
          "name": "stdout"
        }
      ]
    },
    {
      "cell_type": "code",
      "metadata": {
        "colab": {
          "base_uri": "https://localhost:8080/"
        },
        "id": "mwA-XUcNs9Pe",
        "outputId": "78e405a2-9488-43b2-ff39-363fa367667e"
      },
      "source": [
        "number = 7\r\n",
        "\r\n",
        "if number >= 10:\r\n",
        "    print(\"The number is equal or greater than 10\")\r\n",
        "elif number < 10:\r\n",
        "    print(\"The number is less than 10\")"
      ],
      "execution_count": null,
      "outputs": [
        {
          "output_type": "stream",
          "text": [
            "The number is less than 10\n"
          ],
          "name": "stdout"
        }
      ]
    },
    {
      "cell_type": "code",
      "metadata": {
        "colab": {
          "base_uri": "https://localhost:8080/"
        },
        "id": "B7-HqVWSZt22",
        "outputId": "dbd65bf1-6459-4ba3-ee3f-25282375f481"
      },
      "source": [
        "a=set(\"09/01/2021\")\r\n",
        "\r\n",
        "print(a)"
      ],
      "execution_count": null,
      "outputs": [
        {
          "output_type": "stream",
          "text": [
            "{'9', '2', '/', '0', '1'}\n"
          ],
          "name": "stdout"
        }
      ]
    },
    {
      "cell_type": "code",
      "metadata": {
        "colab": {
          "base_uri": "https://localhost:8080/"
        },
        "id": "BwNGjwH0aKBp",
        "outputId": "0b14f239-7dda-4f65-a5a8-10df696aede3"
      },
      "source": [
        "given_list=[1, 2, 3, 3, 3, 3, 4, 4, 5, 5]\r\n",
        "print(given_list)\r\n",
        "\r\n",
        "print(set(given_list)) "
      ],
      "execution_count": null,
      "outputs": [
        {
          "output_type": "stream",
          "text": [
            "[1, 2, 3, 3, 3, 3, 4, 4, 5, 5]\n",
            "{1, 2, 3, 4, 5}\n"
          ],
          "name": "stdout"
        }
      ]
    },
    {
      "cell_type": "code",
      "metadata": {
        "colab": {
          "base_uri": "https://localhost:8080/"
        },
        "id": "RHytY8Jxblll",
        "outputId": "ed365383-a947-4921-f7d4-43854beeb5aa"
      },
      "source": [
        "USA_cap = set (\"Washington\")\r\n",
        "NewZealand_cap = set (\"Wellington\")\r\n",
        "\r\n",
        "print(USA_cap.intersection(NewZealand_cap))\r\n"
      ],
      "execution_count": null,
      "outputs": [
        {
          "output_type": "stream",
          "text": [
            "{'t', 'i', 'g', 'W', 'n', 'o'}\n"
          ],
          "name": "stdout"
        }
      ]
    },
    {
      "cell_type": "code",
      "metadata": {
        "colab": {
          "base_uri": "https://localhost:8080/"
        },
        "id": "hZ3rxOuliIea",
        "outputId": "648f7660-babc-4d06-8971-1b6dfde49ad7"
      },
      "source": [
        "hamburger_bread= True\r\n",
        "grocer= True\r\n",
        "minced_meat= True\r\n",
        "lettuce= True\r\n",
        "pepper= True\r\n",
        "onion= False\r\n",
        "\r\n",
        "hamburger= minced_meat and grocer and hamburger_bread and (lettuce or onion)\r\n",
        "\r\n",
        "print(hamburger)\r\n",
        "\r\n",
        "if hamburger:\r\n",
        "  print(\"Bon Appetit\")\r\n"
      ],
      "execution_count": null,
      "outputs": [
        {
          "output_type": "stream",
          "text": [
            "True\n",
            "Bon Appetit\n"
          ],
          "name": "stdout"
        }
      ]
    },
    {
      "cell_type": "code",
      "metadata": {
        "colab": {
          "base_uri": "https://localhost:8080/"
        },
        "id": "bgV9NKYbkMlE",
        "outputId": "0ee0fbb1-4dbc-4b50-80c4-a029f838edf0"
      },
      "source": [
        "grocery_store = True\r\n",
        "minced_meat = False\r\n",
        "hamburger_bread = True\r\n",
        "lettuce = True\r\n",
        "pepper = True\r\n",
        "hamburger = grocery_store and minced_meat and hamburger_bread and (lettuce or pepper)\r\n",
        "if hamburger is True: \r\n",
        "    print(\"Bon Appetit\")\r\n",
        "else :\r\n",
        "    print(\"We should make another meal\")"
      ],
      "execution_count": null,
      "outputs": [
        {
          "output_type": "stream",
          "text": [
            "We should make another meal\n"
          ],
          "name": "stdout"
        }
      ]
    },
    {
      "cell_type": "code",
      "metadata": {
        "colab": {
          "base_uri": "https://localhost:8080/"
        },
        "id": "cjgIXVzOklkp",
        "outputId": "cfdb6482-a4e2-4e2c-da4e-509fa3bc0fce"
      },
      "source": [
        "if 1:\r\n",
        "  print(\"I will be executed\")"
      ],
      "execution_count": null,
      "outputs": [
        {
          "output_type": "stream",
          "text": [
            "I will be executed\n"
          ],
          "name": "stdout"
        }
      ]
    },
    {
      "cell_type": "code",
      "metadata": {
        "colab": {
          "base_uri": "https://localhost:8080/"
        },
        "id": "-yvC8ZWOktOx",
        "outputId": "6195bd2a-761f-446b-cffd-6a0e5d131b49"
      },
      "source": [
        "if \"0\":\r\n",
        "  print(\"I will be executed\")"
      ],
      "execution_count": null,
      "outputs": [
        {
          "output_type": "stream",
          "text": [
            "I will be executed\n"
          ],
          "name": "stdout"
        }
      ]
    },
    {
      "cell_type": "code",
      "metadata": {
        "colab": {
          "base_uri": "https://localhost:8080/"
        },
        "id": "LyGl6vCIlAZp",
        "outputId": "b3331e18-9d9b-4b78-e103-9f60d83aeaf6"
      },
      "source": [
        "bool({ })"
      ],
      "execution_count": null,
      "outputs": [
        {
          "output_type": "execute_result",
          "data": {
            "text/plain": [
              "False"
            ]
          },
          "metadata": {
            "tags": []
          },
          "execution_count": 35
        }
      ]
    },
    {
      "cell_type": "code",
      "metadata": {
        "colab": {
          "base_uri": "https://localhost:8080/"
        },
        "id": "TBxuSVcklW4Y",
        "outputId": "6466b5ed-9da7-40db-a319-c742f3060db2"
      },
      "source": [
        "if \"False\":\r\n",
        "  print(\"clarusway\")"
      ],
      "execution_count": null,
      "outputs": [
        {
          "output_type": "stream",
          "text": [
            "clarusway\n"
          ],
          "name": "stdout"
        }
      ]
    },
    {
      "cell_type": "code",
      "metadata": {
        "id": "1ZSz2hdc7iCS"
      },
      "source": [
        "left_hand =  set(“qwertasdfgzxcvb”)\r\n",
        "right_hand = set(“yuiophjklnm”)\r\n",
        "words = set(input(\"Enter a new word: \"))\r\n",
        "words.intersection(left_hand) !=  set() and words.intersection(right_hand) != set()"
      ],
      "execution_count": null,
      "outputs": []
    },
    {
      "cell_type": "code",
      "metadata": {
        "colab": {
          "base_uri": "https://localhost:8080/"
        },
        "id": "dD7S_yvHqxD2",
        "outputId": "ef39875d-42cb-4237-9454-aa17be1a7ec8"
      },
      "source": [
        "left = set('qwertasdfgzxcvb') \r\n",
        "\r\n",
        "right= set('yuiophjklnm')\r\n",
        "\r\n",
        "word = set(input(\"Enter a word : \"))\r\n",
        "\r\n",
        "#com_word = set(word.intersection(left_hand): set() and word.intersection(right_hand): set())\r\n",
        "\r\n",
        "False = left\r\n",
        "\r\n",
        "word = bool(left.intersection(right)) \r\n",
        "\r\n",
        "print(\"This word is a comfortable word\")\r\n"
      ],
      "execution_count": null,
      "outputs": [
        {
          "output_type": "stream",
          "text": [
            "Enter a word : yuklıjm\n",
            "This word is a comfortable word\n"
          ],
          "name": "stdout"
        }
      ]
    },
    {
      "cell_type": "code",
      "metadata": {
        "colab": {
          "base_uri": "https://localhost:8080/"
        },
        "id": "3bKaGBOOxS2i",
        "outputId": "c58c90bc-4cc6-4e7d-ea3f-717630ef4677"
      },
      "source": [
        "left = set('qwertasdfgzxcvb')\r\n",
        "\r\n",
        "right = set('yuiophjklnm')\r\n",
        "\r\n",
        "#word = input(\"Enter a word: \")\r\n",
        "\r\n",
        "#left_hand = set(word.intersection(left))\r\n",
        "\r\n",
        "right_hand = set(left.union(right))\r\n",
        "\r\n",
        "print(left)\r\n",
        "\r\n",
        "print(right)\r\n",
        "\r\n",
        "print(right_hand)"
      ],
      "execution_count": null,
      "outputs": [
        {
          "output_type": "stream",
          "text": [
            "{'s', 't', 'd', 'z', 'c', 'v', 'r', 'e', 'w', 'f', 'x', 'q', 'g', 'b', 'a'}\n",
            "{'k', 'j', 'y', 'u', 'p', 'l', 'h', 'n', 'ı', 'o', 'm'}\n",
            "{'s', 'z', 'd', 'v', 'c', 'k', 'j', 'u', 'm', 'n', 'w', 'b', 't', 'r', 'y', 'p', 'e', 'l', 'h', 'f', 'ı', 'x', 'q', 'g', 'o', 'a'}\n"
          ],
          "name": "stdout"
        }
      ]
    },
    {
      "cell_type": "code",
      "metadata": {
        "colab": {
          "base_uri": "https://localhost:8080/"
        },
        "id": "KbpuT0lb-FDZ",
        "outputId": "78d544d0-b051-468d-f9a6-a18a03c77078"
      },
      "source": [
        "left = set('qwertasdfgzxcvb')\r\n",
        "\r\n",
        "word = set('hospital')\r\n",
        "\r\n",
        "left_hand = set(left.intersection(word))\r\n",
        "\r\n",
        "print(left_hand)"
      ],
      "execution_count": null,
      "outputs": [
        {
          "output_type": "stream",
          "text": [
            "{'s', 't', 'a'}\n"
          ],
          "name": "stdout"
        }
      ]
    },
    {
      "cell_type": "code",
      "metadata": {
        "id": "jQhysAg2_-5y",
        "colab": {
          "base_uri": "https://localhost:8080/"
        },
        "outputId": "14ce4a41-e444-4c67-e47b-4d46adc34f6b"
      },
      "source": [
        "left = set (\"qwertasdfgzxcvb\")\r\n",
        "\r\n",
        "right = set (\"yuiophjklnm\")\r\n",
        "\r\n",
        "word = set (input(\"Enter a word: \"))\r\n",
        "\r\n",
        "x1 = bool(word.intersection(left))\r\n",
        "\r\n",
        "x2 = bool(word.intersection(right))\r\n",
        "\r\n",
        "result = bool(x1 and x2)\r\n",
        "\r\n",
        "print(result)\r\n",
        "\r\n",
        "if result == True:\r\n",
        "  print(\"This is a comfortable word.\")"
      ],
      "execution_count": null,
      "outputs": [
        {
          "output_type": "stream",
          "text": [
            "Enter a word: tester\n",
            "False\n"
          ],
          "name": "stdout"
        }
      ]
    },
    {
      "cell_type": "code",
      "metadata": {
        "colab": {
          "base_uri": "https://localhost:8080/"
        },
        "id": "CHaiJAX-g0-O",
        "outputId": "83e37447-a701-4fd7-ebce-ff56d42a20e2"
      },
      "source": [
        "left = set (\"qwertasdfgzxcvb\")\r\n",
        "\r\n",
        "right = set (\"yuiophjklnm\")\r\n",
        "\r\n",
        "word = set (\"pokumnı\")\r\n",
        "\r\n",
        "x1 = bool(word.intersection(left))\r\n",
        "\r\n",
        "x2 = bool(word.intersection(right))\r\n",
        "\r\n",
        "result = bool(x1 and x2)\r\n",
        "print(result)"
      ],
      "execution_count": null,
      "outputs": [
        {
          "output_type": "stream",
          "text": [
            "False\n"
          ],
          "name": "stdout"
        }
      ]
    },
    {
      "cell_type": "code",
      "metadata": {
        "colab": {
          "base_uri": "https://localhost:8080/"
        },
        "id": "4_EQPyNY_Wkc",
        "outputId": "ca7f02c1-6b9b-4c23-a5b6-7f216915e91d"
      },
      "source": [
        "x, y, z = \"five\", 5, True\r\n",
        "\r\n",
        "print(x, y, z)"
      ],
      "execution_count": null,
      "outputs": [
        {
          "output_type": "stream",
          "text": [
            "five 5 True\n"
          ],
          "name": "stdout"
        }
      ]
    },
    {
      "cell_type": "code",
      "metadata": {
        "colab": {
          "base_uri": "https://localhost:8080/"
        },
        "id": "Sb1nw8md7toD",
        "outputId": "ebcac8c3-2346-4418-c016-ce94023294ba"
      },
      "source": [
        "set_a = set(\"TWELVE PLUS ONE\")\r\n",
        "\r\n",
        "set_b = set(\"ELEVEN PLUS TWO\")\r\n",
        "\r\n",
        "if set_a == set_b:\r\n",
        "      print(\"We are the same!\")"
      ],
      "execution_count": null,
      "outputs": [
        {
          "output_type": "stream",
          "text": [
            "We are the same!\n"
          ],
          "name": "stdout"
        }
      ]
    },
    {
      "cell_type": "code",
      "metadata": {
        "colab": {
          "base_uri": "https://localhost:8080/"
        },
        "id": "pw-nl8zWEcRt",
        "outputId": "190840ef-7988-4876-db38-c722b772ea4f"
      },
      "source": [
        "status = input(\"Enter Yes or No :\").title().strip() == \"Yes\"\r\n",
        "\r\n",
        "print(\"You entered\", status)\r\n",
        " "
      ],
      "execution_count": null,
      "outputs": [
        {
          "output_type": "stream",
          "text": [
            "Enter Yes or No :No\n",
            "You entered False\n"
          ],
          "name": "stdout"
        }
      ]
    },
    {
      "cell_type": "code",
      "metadata": {
        "colab": {
          "base_uri": "https://localhost:8080/"
        },
        "id": "F89pDpmvFlWy",
        "outputId": "fbdff3ce-33dd-4cc9-c88a-eddd57b92c37"
      },
      "source": [
        "Yes = True\r\n",
        "No = False\r\n",
        "\r\n",
        "answer = Yes\r\n",
        "\r\n",
        "if answer == Yes:\r\n",
        "  print(\"You entered True.\")\r\n"
      ],
      "execution_count": null,
      "outputs": [
        {
          "output_type": "stream",
          "text": [
            "You entered True.\n"
          ],
          "name": "stdout"
        }
      ]
    },
    {
      "cell_type": "code",
      "metadata": {
        "colab": {
          "base_uri": "https://localhost:8080/"
        },
        "id": "WcIr2g9ZJEmu",
        "outputId": "1a8f75e1-b9d2-45c5-d05c-9061a05bbd15"
      },
      "source": [
        "course = \"clarusway\"\r\n",
        "\r\n",
        "if course == \"clarusway\":\r\n",
        "  print(\"You guarented a job.\")\r\n",
        "\r\n",
        "else:\r\n",
        "  print(\"You must be meet clarusway\")\r\n"
      ],
      "execution_count": null,
      "outputs": [
        {
          "output_type": "stream",
          "text": [
            "You guarented a job.\n"
          ],
          "name": "stdout"
        }
      ]
    },
    {
      "cell_type": "code",
      "metadata": {
        "colab": {
          "base_uri": "https://localhost:8080/",
          "height": 129
        },
        "id": "mVXG2ADoKCPN",
        "outputId": "de0e7022-fcd6-458f-b196-b143b3003170"
      },
      "source": [
        "even = [0, 2, 4, 6, 8]\r\n",
        "\r\n",
        "odd = [1, 3, 5, 7, 9]\r\n",
        "\r\n",
        "num = int(input(\"Enter a number 0-10 : \"))\r\n",
        "\r\n",
        "if num == even:\r\n",
        "print(num, \"number is even\")\r\n",
        "else:\r\n",
        "print(num, \"number is odd\")"
      ],
      "execution_count": null,
      "outputs": [
        {
          "output_type": "error",
          "ename": "IndentationError",
          "evalue": "ignored",
          "traceback": [
            "\u001b[0;36m  File \u001b[0;32m\"<ipython-input-8-5118a952ce39>\"\u001b[0;36m, line \u001b[0;32m8\u001b[0m\n\u001b[0;31m    print(num, \"number is even\")\u001b[0m\n\u001b[0m        ^\u001b[0m\n\u001b[0;31mIndentationError\u001b[0m\u001b[0;31m:\u001b[0m expected an indented block\n"
          ]
        }
      ]
    },
    {
      "cell_type": "code",
      "metadata": {
        "colab": {
          "base_uri": "https://localhost:8080/"
        },
        "id": "fnM2hjuxLgo4",
        "outputId": "46d61c41-7603-4927-9f41-cbc9185af7ec"
      },
      "source": [
        "number = float(input(\"Enter a number : \"))\r\n",
        "\r\n",
        "if number >= 0 :\r\n",
        "  print(number, \"number is positive\")\r\n",
        "elif number < 0 :\r\n",
        "  print(number, \"number is negative\")"
      ],
      "execution_count": null,
      "outputs": [
        {
          "output_type": "stream",
          "text": [
            "Enter a number : -9\n",
            "-9.0 number is negative\n"
          ],
          "name": "stdout"
        }
      ]
    },
    {
      "cell_type": "code",
      "metadata": {
        "colab": {
          "base_uri": "https://localhost:8080/"
        },
        "id": "2BAH13JLNCEL",
        "outputId": "fbe275a6-2d33-4274-c822-d77eb0d6b6e6"
      },
      "source": [
        "number_1 = int(input(\"Enter number_1: \"))\r\n",
        "\r\n",
        "number_2 = int(input(\"Enter number_2: \"))\r\n",
        "\r\n",
        "if number_1 < number_2 :\r\n",
        "  print(\"number_2 larger than number_1\")\r\n",
        "else:\r\n",
        "  print(\"number_1 larger than number_2\")\r\n",
        "\r\n"
      ],
      "execution_count": null,
      "outputs": [
        {
          "output_type": "stream",
          "text": [
            "Enter number_1: 12\n",
            "Enter number_2: 8\n",
            "number_1 larger than number_2\n"
          ],
          "name": "stdout"
        }
      ]
    },
    {
      "cell_type": "code",
      "metadata": {
        "colab": {
          "base_uri": "https://localhost:8080/"
        },
        "id": "XDXM91I_zYlo",
        "outputId": "77bb90c6-76fb-454a-da24-c50f9e72bb7b"
      },
      "source": [
        "answer = 44\r\n",
        "\r\n",
        "question = 'What number am I thinking of?  '\r\n",
        "print (\"Let's play the guessing game!\")\r\n",
        "\r\n",
        "while True:\r\n",
        "    guess = int(input(question))\r\n",
        "\r\n",
        "    if guess < answer:\r\n",
        "        print('Little higher')\r\n",
        "    elif guess > answer:\r\n",
        "        print('Little lower')\r\n",
        "    else:  # guess == answer\r\n",
        "        print('Are you a MINDREADER!!!')\r\n",
        "        break\r\n"
      ],
      "execution_count": null,
      "outputs": [
        {
          "output_type": "stream",
          "text": [
            "Let's play the guessing game!\n",
            "What number am I thinking of?  1\n",
            "Little higher\n",
            "What number am I thinking of?  20\n",
            "Little higher\n",
            "What number am I thinking of?  40\n",
            "Little higher\n",
            "What number am I thinking of?  45\n",
            "Little lower\n",
            "What number am I thinking of?  44\n",
            "Are you a MINDREADER!!!\n"
          ],
          "name": "stdout"
        }
      ]
    },
    {
      "cell_type": "code",
      "metadata": {
        "colab": {
          "base_uri": "https://localhost:8080/"
        },
        "id": "wKOWQPt3YaMZ",
        "outputId": "8f553525-2d78-4c81-84f9-41234a773191"
      },
      "source": [
        "answer = 45\r\n",
        "\r\n",
        "question = \"What a number am I thinking of my mind? :\"\r\n",
        "\r\n",
        "print(\"Let's play the guessing game!\")\r\n",
        "\r\n",
        "while True:\r\n",
        "\r\n",
        "  guess = int(input(question))\r\n",
        "\r\n",
        "  if guess < answer:\r\n",
        "    print(\"Little higher!\")\r\n",
        "  elif guess > answer:\r\n",
        "    print(\"Little lower!\")\r\n",
        "  else:\r\n",
        "    print(\"Are you a MINDREADER!\")\r\n",
        "    break"
      ],
      "execution_count": null,
      "outputs": [
        {
          "output_type": "stream",
          "text": [
            "Let's play the guessing game!\n",
            "What a number am I thinking of my mind? :23\n",
            "Little higher!\n",
            "What a number am I thinking of my mind? :27\n",
            "Little higher!\n",
            "What a number am I thinking of my mind? :40\n",
            "Little higher!\n",
            "What a number am I thinking of my mind? :45\n",
            "Are you a MINDREADER!\n"
          ],
          "name": "stdout"
        }
      ]
    },
    {
      "cell_type": "code",
      "metadata": {
        "colab": {
          "base_uri": "https://localhost:8080/"
        },
        "id": "Gmqr4KEcb31X",
        "outputId": "c65c236e-3d96-4fa3-c542-1aad93944a15"
      },
      "source": [
        "word1 = input(\"Please, enter a long word :\")\r\n",
        "\r\n",
        "word2 = input(\"Please, enter a long word :\")\r\n",
        "\r\n",
        "while True:\r\n",
        "  if (len(word1)) > (len(word2)):\r\n",
        "    print(\"The longest word is\", word1)\r\n",
        "    break\r\n",
        "  else:\r\n",
        "    print(\"The longest word is\", word2)\r\n",
        "    break"
      ],
      "execution_count": null,
      "outputs": [
        {
          "output_type": "stream",
          "text": [
            "Please, enter a long word :patenci\n",
            "Please, enter a long word :clarusway\n",
            "The longest word is clarusway\n"
          ],
          "name": "stdout"
        }
      ]
    },
    {
      "cell_type": "code",
      "metadata": {
        "colab": {
          "base_uri": "https://localhost:8080/"
        },
        "id": "wYrw9bpOe5fV",
        "outputId": "418b7b6f-557b-4220-f1cb-3d0084cfa22f"
      },
      "source": [
        "sentence = input(\"Give me a sentence :\")\r\n",
        "\r\n",
        "words = sentence.split()\r\n",
        "longest= 0\r\n",
        "i = 0\r\n",
        "while i < len(words) :\r\n",
        "  if len(words[i]) > longest:\r\n",
        "    longest = len(words[i])\r\n",
        "  i += 1\r\n",
        "\r\n",
        "print(\"The lengt of the longest word is :\", longest)"
      ],
      "execution_count": null,
      "outputs": [
        {
          "output_type": "stream",
          "text": [
            "Give me a sentence :i am an instructor of clarusway\n",
            "The lengt of the longest word is : 10\n"
          ],
          "name": "stdout"
        }
      ]
    },
    {
      "cell_type": "code",
      "metadata": {
        "colab": {
          "base_uri": "https://localhost:8080/",
          "height": 129
        },
        "id": "stTKp2iw0bO9",
        "outputId": "93aa0bff-92d8-4b8f-f6d8-bf8eb53112b7"
      },
      "source": [
        "flowers = ['Rose', 'Orchid', 'Tulip']\r\n",
        "count1 = len(flowers)\r\n",
        "count2 = \r\n",
        "\r\n",
        "while count > 0 :\r\n",
        "    print(flowers[0:3])\r\n",
        "    count1 -= ...\r\n",
        "    count2 += ..."
      ],
      "execution_count": null,
      "outputs": [
        {
          "output_type": "error",
          "ename": "SyntaxError",
          "evalue": "ignored",
          "traceback": [
            "\u001b[0;36m  File \u001b[0;32m\"<ipython-input-3-f3ee05bdf74b>\"\u001b[0;36m, line \u001b[0;32m2\u001b[0m\n\u001b[0;31m    count1 = len(....)\u001b[0m\n\u001b[0m                     ^\u001b[0m\n\u001b[0;31mSyntaxError\u001b[0m\u001b[0;31m:\u001b[0m invalid syntax\n"
          ]
        }
      ]
    },
    {
      "cell_type": "code",
      "metadata": {
        "colab": {
          "base_uri": "https://localhost:8080/"
        },
        "id": "zMiaL9fT7i0H",
        "outputId": "4cddb820-8057-41d2-cfba-6052e15a1e71"
      },
      "source": [
        "for i in [1, 2, 3, 4]:\r\n",
        "    square = i**2\r\n",
        "    print(i, square)\r\n",
        "    "
      ],
      "execution_count": null,
      "outputs": [
        {
          "output_type": "stream",
          "text": [
            "1 1\n",
            "2 4\n",
            "3 9\n",
            "4 16\n"
          ],
          "name": "stdout"
        }
      ]
    },
    {
      "cell_type": "code",
      "metadata": {
        "colab": {
          "base_uri": "https://localhost:8080/"
        },
        "id": "fWyke4ivCOu1",
        "outputId": "62b0eaac-926f-48d2-92eb-4f0787b1b328"
      },
      "source": [
        "times = int(input(\"How many times should I say 'I love you'\"))\r\n",
        "\r\n",
        "for i in range(times):\r\n",
        "    print('I love you')"
      ],
      "execution_count": null,
      "outputs": [
        {
          "output_type": "stream",
          "text": [
            "How many times should I say 'I love you'3\n",
            "I love you\n",
            "I love you\n",
            "I love you\n"
          ],
          "name": "stdout"
        }
      ]
    },
    {
      "cell_type": "code",
      "metadata": {
        "colab": {
          "base_uri": "https://localhost:8080/"
        },
        "id": "4qXWPfpyCRvh",
        "outputId": "48f8ffdf-4f3d-4a24-b423-9e6f4cd2fde4"
      },
      "source": [
        "n = int(input('enter a number between 1-10: '))\r\n",
        "\r\n",
        "for i in range(11):\r\n",
        "    print('{}x{} = '.format(n, i), n*i)"
      ],
      "execution_count": null,
      "outputs": [
        {
          "output_type": "stream",
          "text": [
            "enter a number between 1-10: 7\n",
            "7x0 =  0\n",
            "7x1 =  7\n",
            "7x2 =  14\n",
            "7x3 =  21\n",
            "7x4 =  28\n",
            "7x5 =  35\n",
            "7x6 =  42\n",
            "7x7 =  49\n",
            "7x8 =  56\n",
            "7x9 =  63\n",
            "7x10 =  70\n"
          ],
          "name": "stdout"
        }
      ]
    },
    {
      "cell_type": "code",
      "metadata": {
        "colab": {
          "base_uri": "https://localhost:8080/"
        },
        "id": "pcmFtlp8wS_X",
        "outputId": "f7ceb067-ee5f-4e4e-a7e5-f1bda5b6872d"
      },
      "source": [
        "x = 3\r\n",
        "\r\n",
        "y = 9 \r\n",
        "\r\n",
        "z = 11 \r\n",
        "\r\n",
        "if (x > y) and (x > z):\r\n",
        "  print(\"The larger number is\", x)\r\n",
        "elif (y > x) and (y > z):\r\n",
        "  print(\"The larger number is\", y)\r\n",
        "else :\r\n",
        "  print(\"The larger number is\", z)\r\n",
        "\r\n"
      ],
      "execution_count": null,
      "outputs": [
        {
          "output_type": "stream",
          "text": [
            "The larger number is 11\n"
          ],
          "name": "stdout"
        }
      ]
    },
    {
      "cell_type": "code",
      "metadata": {
        "colab": {
          "base_uri": "https://localhost:8080/"
        },
        "id": "NTsyN-2eyd9h",
        "outputId": "89279da5-b221-44b2-d5a1-4126f3cf1cc4"
      },
      "source": [
        "number = int(input(\"Enter a number: \"))\r\n",
        "\r\n",
        "\r\n",
        "if number < 0:\r\n",
        "  print(\"Number is negative\")\r\n",
        "elif number == 0:\r\n",
        "  print(\"Number is zero\")\r\n",
        "else:\r\n",
        "  print(\"Number is positive\")"
      ],
      "execution_count": null,
      "outputs": [
        {
          "output_type": "stream",
          "text": [
            "Enter a number: -10\n",
            "Number is negative\n"
          ],
          "name": "stdout"
        }
      ]
    },
    {
      "cell_type": "code",
      "metadata": {
        "colab": {
          "base_uri": "https://localhost:8080/"
        },
        "id": "CnOAO6Lq1ChV",
        "outputId": "f8f638a5-468f-4dbd-e8d7-a07c79351504"
      },
      "source": [
        "exam =  float(input(\"Enter a exam score: \"))\r\n",
        "\r\n",
        "if (0 < exam < 100):\r\n",
        "  if (exam >= 95):\r\n",
        "    print(\"A+\")\r\n",
        "  elif (90 <= exam < 95):\r\n",
        "    print(\"A\")\r\n",
        "  elif (85 <= exam < 90):\r\n",
        "    print(\"B+\")\r\n",
        "  elif (80<= exam <85):\r\n",
        "    print(\"B\")\r\n",
        "else:\r\n",
        "  print(\"B-\")\r\n",
        "print(\"Your degree is\", exam)\r\n",
        "  \r\n"
      ],
      "execution_count": null,
      "outputs": [
        {
          "output_type": "stream",
          "text": [
            "Enter a exam score: 85\n",
            "B+\n",
            "Your degree is 85.0\n"
          ],
          "name": "stdout"
        }
      ]
    },
    {
      "cell_type": "code",
      "metadata": {
        "colab": {
          "base_uri": "https://localhost:8080/"
        },
        "id": "i1fwBeFq3txE",
        "outputId": "3e84fb2c-7d36-4085-f967-fcb63898844b"
      },
      "source": [
        "score = int(input(\"enter a exam score: \"))\r\n",
        "\r\n",
        "if score >= 90:\r\n",
        "  if score >=95:\r\n",
        "    score_letter = \"A+\"\r\n",
        "  else:\r\n",
        "    score_letter = \"A\"\r\n",
        "elif score>= 80:\r\n",
        "  if score >= 85:\r\n",
        "    score_letter = \"B+\"\r\n",
        "  else:\r\n",
        "    score_letter = \"B\"\r\n",
        "else:\r\n",
        "  score_letter = \"B-\"\r\n",
        "print(score_letter)"
      ],
      "execution_count": null,
      "outputs": [
        {
          "output_type": "stream",
          "text": [
            "enter a exam score: 92\n",
            "A\n"
          ],
          "name": "stdout"
        }
      ]
    },
    {
      "cell_type": "code",
      "metadata": {
        "colab": {
          "base_uri": "https://localhost:8080/"
        },
        "id": "SK-Ax6CcQ65y",
        "outputId": "3c583b1f-a26f-432a-880f-07f577f12642"
      },
      "source": [
        "age = input(\"Enter your age: \")\r\n",
        "\r\n",
        "while type(age) == int:\r\n",
        "  print(\"Your age is correct numeric format.\")\r\n",
        "  break\r\n",
        "while type(age) != int:\r\n",
        "  print(\"Your age is not correct numeric format. \")\r\n",
        "  break"
      ],
      "execution_count": null,
      "outputs": [
        {
          "output_type": "stream",
          "text": [
            "Enter your age: \"25\"\n",
            "Your age is not correct numeric format. \n"
          ],
          "name": "stdout"
        }
      ]
    },
    {
      "cell_type": "code",
      "metadata": {
        "colab": {
          "base_uri": "https://localhost:8080/"
        },
        "id": "qNNeuRkBSf1Y",
        "outputId": "c21bbfda-ac87-4e51-ac30-84a04726544c"
      },
      "source": [
        "age = input(\"Enter your age: \")\r\n",
        "\r\n",
        "while True:\r\n",
        "  if type(age) == int:\r\n",
        "    print(\"Your age is correct numeric format.\")\r\n",
        "  else :\r\n",
        "    print(\"Your age is not correct numeric format.\")\r\n",
        "    break\r\n",
        " "
      ],
      "execution_count": null,
      "outputs": [
        {
          "output_type": "stream",
          "text": [
            "Enter your age: 21.45\n",
            "Your age is not correct numeric format.\n"
          ],
          "name": "stdout"
        }
      ]
    },
    {
      "cell_type": "code",
      "metadata": {
        "colab": {
          "base_uri": "https://localhost:8080/"
        },
        "id": "pj7onebPW_if",
        "outputId": "6b57e115-6f76-429c-a4cf-1a1b6f7b5dbf"
      },
      "source": [
        "age = input(\"Enter your age please: \")\r\n",
        "\r\n",
        "while not age.isdigit():\r\n",
        "  print(\"You entered incorrectly!\")\r\n",
        "  age = input(\"Enter your age again please: \")\r\n",
        "print(\"Great! You entered valid input and your age is \", age)"
      ],
      "execution_count": null,
      "outputs": [
        {
          "output_type": "stream",
          "text": [
            "Enter your age please: -65\n",
            "You entered incorrectly!\n",
            "Enter your age again please: *98\n",
            "You entered incorrectly!\n",
            "Enter your age again please: 32\n",
            "Great! You entered valid input and your age is  32\n"
          ],
          "name": "stdout"
        }
      ]
    },
    {
      "cell_type": "code",
      "metadata": {
        "id": "3a61fh7gYAyM",
        "colab": {
          "base_uri": "https://localhost:8080/"
        },
        "outputId": "e5798e3e-a7dd-4191-e5c4-f6122b5cffbc"
      },
      "source": [
        "fruits = ['Apples', 'Oranges', 'Bananas']\r\n",
        "quantities = [5, 3, 4]\r\n",
        "prices = [1.50, 2.25, 0.89]\r\n",
        "\r\n",
        "i = 0\r\n",
        "output = []\r\n",
        "for fruit in fruits:\r\n",
        "  for qty in quantities:\r\n",
        "    for price in prices:\r\n",
        "      output.append((fruit, qty, price))\r\n",
        "  i += 1\r\n",
        "print(output)\r\n"
      ],
      "execution_count": null,
      "outputs": [
        {
          "output_type": "stream",
          "text": [
            "[('Apples', 5, 1.5), ('Apples', 5, 2.25), ('Apples', 5, 0.89), ('Apples', 3, 1.5), ('Apples', 3, 2.25), ('Apples', 3, 0.89), ('Apples', 4, 1.5), ('Apples', 4, 2.25), ('Apples', 4, 0.89), ('Oranges', 5, 1.5), ('Oranges', 5, 2.25), ('Oranges', 5, 0.89), ('Oranges', 3, 1.5), ('Oranges', 3, 2.25), ('Oranges', 3, 0.89), ('Oranges', 4, 1.5), ('Oranges', 4, 2.25), ('Oranges', 4, 0.89), ('Bananas', 5, 1.5), ('Bananas', 5, 2.25), ('Bananas', 5, 0.89), ('Bananas', 3, 1.5), ('Bananas', 3, 2.25), ('Bananas', 3, 0.89), ('Bananas', 4, 1.5), ('Bananas', 4, 2.25), ('Bananas', 4, 0.89)]\n"
          ],
          "name": "stdout"
        }
      ]
    },
    {
      "cell_type": "code",
      "metadata": {
        "colab": {
          "base_uri": "https://localhost:8080/"
        },
        "id": "inqwXAskiqO0",
        "outputId": "d5ea7fe8-479c-46c9-d940-2beb97bf605c"
      },
      "source": [
        "fruits = ['Apples', 'Oranges', 'Bananas']\r\n",
        "quantities = [5, 3, 4]\r\n",
        "prices = [1.50, 2.25, 0.89]\r\n",
        "\r\n",
        "\r\n",
        "output = []\r\n",
        "i = 0\r\n",
        "for i in fruits:\r\n",
        "  for ii in quantities:\r\n",
        "    for iii in prices:\r\n",
        "     output.append(tuple([i, ii, iii]))\r\n",
        "i += \"1\"\r\n",
        "ii += 1\r\n",
        "iii += 1\r\n",
        "print(output)"
      ],
      "execution_count": null,
      "outputs": [
        {
          "output_type": "stream",
          "text": [
            "[('Apples', 5, 1.5), ('Apples', 5, 2.25), ('Apples', 5, 0.89), ('Apples', 3, 1.5), ('Apples', 3, 2.25), ('Apples', 3, 0.89), ('Apples', 4, 1.5), ('Apples', 4, 2.25), ('Apples', 4, 0.89), ('Oranges', 5, 1.5), ('Oranges', 5, 2.25), ('Oranges', 5, 0.89), ('Oranges', 3, 1.5), ('Oranges', 3, 2.25), ('Oranges', 3, 0.89), ('Oranges', 4, 1.5), ('Oranges', 4, 2.25), ('Oranges', 4, 0.89), ('Bananas', 5, 1.5), ('Bananas', 5, 2.25), ('Bananas', 5, 0.89), ('Bananas', 3, 1.5), ('Bananas', 3, 2.25), ('Bananas', 3, 0.89), ('Bananas', 4, 1.5), ('Bananas', 4, 2.25), ('Bananas', 4, 0.89)]\n"
          ],
          "name": "stdout"
        }
      ]
    },
    {
      "cell_type": "code",
      "metadata": {
        "colab": {
          "base_uri": "https://localhost:8080/"
        },
        "id": "I8uvaDFhjyZG",
        "outputId": "b99003a9-c51a-4dd6-b026-21680e1c493c"
      },
      "source": [
        "def my_function(a,b):\r\n",
        "  print(a * b)\r\n",
        "my_function(3, 4)\r\n",
        "my_function(5, 7)"
      ],
      "execution_count": null,
      "outputs": [
        {
          "output_type": "stream",
          "text": [
            "12\n",
            "35\n"
          ],
          "name": "stdout"
        }
      ]
    },
    {
      "cell_type": "code",
      "metadata": {
        "colab": {
          "base_uri": "https://localhost:8080/"
        },
        "id": "xLTFHTXLvVD_",
        "outputId": "82ae6a36-56d3-4100-d39d-974b63398ba2"
      },
      "source": [
        "names = [\"Ahmed\", \"Aisha\", \"Adam\", \"Joseph\", \"Gabriel\"]\r\n",
        "\r\n",
        "for i in names:\r\n",
        "  print(\"Hello\", names)\r\n",
        "  break\r\n",
        "\r\n"
      ],
      "execution_count": null,
      "outputs": [
        {
          "output_type": "stream",
          "text": [
            "Hello ['Ahmed', 'Aisha', 'Adam', 'Joseph', 'Gabriel']\n"
          ],
          "name": "stdout"
        }
      ]
    },
    {
      "cell_type": "code",
      "metadata": {
        "colab": {
          "base_uri": "https://localhost:8080/"
        },
        "id": "z3D3fU3TDYyG",
        "outputId": "a718a65c-f164-4a22-ce06-fc9a6497077b"
      },
      "source": [
        "number = range(1, 6)\r\n",
        "\r\n",
        "for i in number:\r\n",
        "  print(list(number))\r\n",
        "  break"
      ],
      "execution_count": null,
      "outputs": [
        {
          "output_type": "stream",
          "text": [
            "[1, 2, 3, 4, 5]\n"
          ],
          "name": "stdout"
        }
      ]
    },
    {
      "cell_type": "code",
      "metadata": {
        "id": "XGufW_S8Hbs0"
      },
      "source": [
        ""
      ],
      "execution_count": null,
      "outputs": []
    },
    {
      "cell_type": "code",
      "metadata": {
        "colab": {
          "base_uri": "https://localhost:8080/",
          "height": 231
        },
        "id": "AX9nVjg1ETcf",
        "outputId": "1e77512c-8a66-4721-8fc9-4ccb7598f94d"
      },
      "source": [
        "course = \"Clarusway\"\r\n",
        "i=0\r\n",
        "for i in course.split(\"-\"):\r\n",
        "  print((\"-\".join(course).sort))"
      ],
      "execution_count": null,
      "outputs": [
        {
          "output_type": "error",
          "ename": "AttributeError",
          "evalue": "ignored",
          "traceback": [
            "\u001b[0;31m---------------------------------------------------------------------------\u001b[0m",
            "\u001b[0;31mAttributeError\u001b[0m                            Traceback (most recent call last)",
            "\u001b[0;32m<ipython-input-32-3950c6d0eeaf>\u001b[0m in \u001b[0;36m<module>\u001b[0;34m()\u001b[0m\n\u001b[1;32m      2\u001b[0m \u001b[0mi\u001b[0m\u001b[0;34m=\u001b[0m\u001b[0;36m0\u001b[0m\u001b[0;34m\u001b[0m\u001b[0;34m\u001b[0m\u001b[0m\n\u001b[1;32m      3\u001b[0m \u001b[0;32mfor\u001b[0m \u001b[0mi\u001b[0m \u001b[0;32min\u001b[0m \u001b[0mcourse\u001b[0m\u001b[0;34m.\u001b[0m\u001b[0msplit\u001b[0m\u001b[0;34m(\u001b[0m\u001b[0;34m\"-\"\u001b[0m\u001b[0;34m)\u001b[0m\u001b[0;34m:\u001b[0m\u001b[0;34m\u001b[0m\u001b[0;34m\u001b[0m\u001b[0m\n\u001b[0;32m----> 4\u001b[0;31m   \u001b[0mprint\u001b[0m\u001b[0;34m(\u001b[0m\u001b[0;34m(\u001b[0m\u001b[0;34m\"-\"\u001b[0m\u001b[0;34m.\u001b[0m\u001b[0mjoin\u001b[0m\u001b[0;34m(\u001b[0m\u001b[0mcourse\u001b[0m\u001b[0;34m)\u001b[0m\u001b[0;34m.\u001b[0m\u001b[0msort\u001b[0m\u001b[0;34m)\u001b[0m\u001b[0;34m)\u001b[0m\u001b[0;34m\u001b[0m\u001b[0;34m\u001b[0m\u001b[0m\n\u001b[0m\u001b[1;32m      5\u001b[0m \u001b[0;34m\u001b[0m\u001b[0m\n\u001b[1;32m      6\u001b[0m \u001b[0;34m\u001b[0m\u001b[0m\n",
            "\u001b[0;31mAttributeError\u001b[0m: 'str' object has no attribute 'sort'"
          ]
        }
      ]
    },
    {
      "cell_type": "code",
      "metadata": {
        "colab": {
          "base_uri": "https://localhost:8080/"
        },
        "id": "rDh-t38QKCMU",
        "outputId": "44374c1e-0fce-4b9e-d618-46f98b015008"
      },
      "source": [
        "word = input(\"Give me a word: \")\r\n",
        "count=0\r\n",
        "\r\n",
        "for i in word :\r\n",
        "  count += 1\r\n",
        "  if count < len(word) :\r\n",
        "    i = i + \"-\"\r\n",
        "  print(i, end=\"\")"
      ],
      "execution_count": null,
      "outputs": [
        {
          "output_type": "stream",
          "text": [
            "Give me a word: world\n",
            "w-o-r-l-d"
          ],
          "name": "stdout"
        }
      ]
    },
    {
      "cell_type": "code",
      "metadata": {
        "colab": {
          "base_uri": "https://localhost:8080/"
        },
        "id": "UVmr1S8ZI9gq",
        "outputId": "9f817dc3-a582-4bd5-adee-3405c5022f9c"
      },
      "source": [
        "word = \"clarusway\"\r\n",
        "\r\n",
        "print(*\"clarusway\", sep=\"-\")"
      ],
      "execution_count": null,
      "outputs": [
        {
          "output_type": "stream",
          "text": [
            "c-l-a-r-u-s-w-a-y\n"
          ],
          "name": "stdout"
        }
      ]
    },
    {
      "cell_type": "code",
      "metadata": {
        "colab": {
          "base_uri": "https://localhost:8080/"
        },
        "id": "DKXj8imtMvbC",
        "outputId": "de5fb25a-5fe2-46e7-8595-7ac94a900500"
      },
      "source": [
        "\"world\".split()\r\n",
        "word= \"world\"\r\n",
        "for i in word.split() :\r\n",
        "  print(\"-\".join(word))"
      ],
      "execution_count": null,
      "outputs": [
        {
          "output_type": "stream",
          "text": [
            "w-o-r-l-d\n"
          ],
          "name": "stdout"
        }
      ]
    },
    {
      "cell_type": "code",
      "metadata": {
        "colab": {
          "base_uri": "https://localhost:8080/"
        },
        "id": "fFcCFhidNN6r",
        "outputId": "198029f8-359c-4481-dd63-8eb5df7ff44d"
      },
      "source": [
        "for i in word :\r\n",
        "  print(\"-\".join(word))\r\n",
        "  break"
      ],
      "execution_count": null,
      "outputs": [
        {
          "output_type": "stream",
          "text": [
            "w-o-r-l-d\n"
          ],
          "name": "stdout"
        }
      ]
    },
    {
      "cell_type": "code",
      "metadata": {
        "colab": {
          "base_uri": "https://localhost:8080/",
          "height": 35
        },
        "id": "IAO8uo93Nc26",
        "outputId": "9e362479-c109-4f59-fb3b-b13b43be7f00"
      },
      "source": [
        "\"/\".join([\"world\", \"jupiter\", \"uranüs\"])"
      ],
      "execution_count": null,
      "outputs": [
        {
          "output_type": "execute_result",
          "data": {
            "application/vnd.google.colaboratory.intrinsic+json": {
              "type": "string"
            },
            "text/plain": [
              "'world/jupiter/uranüs'"
            ]
          },
          "metadata": {
            "tags": []
          },
          "execution_count": 40
        }
      ]
    },
    {
      "cell_type": "code",
      "metadata": {
        "colab": {
          "base_uri": "https://localhost:8080/"
        },
        "id": "i519IrbrO491",
        "outputId": "bc428531-4d3d-462d-8cba-2ef7dc49ad6b"
      },
      "source": [
        "user = {\r\n",
        "    \"name\": \"Daniel\",\r\n",
        "    \"surname\": \"Smith\",\r\n",
        "    \"age\": 35\r\n",
        "} \r\n",
        "for i in user.values():\r\n",
        "  print(i, end= \" \")"
      ],
      "execution_count": null,
      "outputs": [
        {
          "output_type": "stream",
          "text": [
            "Daniel Smith 35 "
          ],
          "name": "stdout"
        }
      ]
    },
    {
      "cell_type": "code",
      "metadata": {
        "colab": {
          "base_uri": "https://localhost:8080/"
        },
        "id": "C25f-CMwP8MU",
        "outputId": "d74f6204-b565-4a1a-e3e7-59692fda3788"
      },
      "source": [
        "user = {\r\n",
        "    \"name\": \"Daniel\",\r\n",
        "    \"surname\": \"Smith\",\r\n",
        "    \"age\": 35\r\n",
        "} \r\n",
        "for key, value in user.items():\r\n",
        "  print(key, \":\", value)"
      ],
      "execution_count": null,
      "outputs": [
        {
          "output_type": "stream",
          "text": [
            "name : Daniel\n",
            "surname : Smith\n",
            "age : 35\n"
          ],
          "name": "stdout"
        }
      ]
    },
    {
      "cell_type": "code",
      "metadata": {
        "colab": {
          "base_uri": "https://localhost:8080/"
        },
        "id": "UQrGKjFXQyIv",
        "outputId": "cd0df02a-770a-4886-f897-08c4e994ebed"
      },
      "source": [
        "my_mix = [(\"one\", 1), (\"two\", 2), (\"three\", 3)]\r\n",
        "\r\n",
        "for string, integer in my_mix:\r\n",
        "  print(string, integer)"
      ],
      "execution_count": null,
      "outputs": [
        {
          "output_type": "stream",
          "text": [
            "one 1\n",
            "two 2\n",
            "three 3\n"
          ],
          "name": "stdout"
        }
      ]
    },
    {
      "cell_type": "code",
      "metadata": {
        "colab": {
          "base_uri": "https://localhost:8080/"
        },
        "id": "X-C73DxXRNIA",
        "outputId": "754b5968-feb3-4e7c-8687-6b87584d12bf"
      },
      "source": [
        "for i in my_mix:\r\n",
        "  print(i)"
      ],
      "execution_count": null,
      "outputs": [
        {
          "output_type": "stream",
          "text": [
            "('one', 1)\n",
            "('two', 2)\n",
            "('three', 3)\n"
          ],
          "name": "stdout"
        }
      ]
    },
    {
      "cell_type": "code",
      "metadata": {
        "colab": {
          "base_uri": "https://localhost:8080/"
        },
        "id": "vv9_zlLeRlZh",
        "outputId": "21fb3542-7ea2-4ea0-b7a1-63d70776a79f"
      },
      "source": [
        "number = 5\r\n",
        "i=0\r\n",
        "\r\n",
        "for i in range(10):\r\n",
        "  result =number*i\r\n",
        "  i+=1\r\n",
        "  print(result)\r\n",
        "\r\n",
        "print(number, \"*\", i, \"=\", result)\r\n"
      ],
      "execution_count": null,
      "outputs": [
        {
          "output_type": "stream",
          "text": [
            "0\n",
            "5\n",
            "10\n",
            "15\n",
            "20\n",
            "25\n",
            "30\n",
            "35\n",
            "40\n",
            "45\n",
            "5 * 10 = 45\n"
          ],
          "name": "stdout"
        }
      ]
    },
    {
      "cell_type": "code",
      "metadata": {
        "colab": {
          "base_uri": "https://localhost:8080/"
        },
        "id": "X3ocimizUuR9",
        "outputId": "a2cb96e6-8746-4cc8-8198-0c7c2505a89c"
      },
      "source": [
        "a= set(range(11))\r\n",
        "print(a)\r\n",
        "for i in range(11):\r\n",
        "  print(i, end=\" \") \r\n",
        "\r\n",
        "print(*(range(11)))"
      ],
      "execution_count": null,
      "outputs": [
        {
          "output_type": "stream",
          "text": [
            "{0, 1, 2, 3, 4, 5, 6, 7, 8, 9, 10}\n",
            "0 1 2 3 4 5 6 7 8 9 10 0 1 2 3 4 5 6 7 8 9 10\n"
          ],
          "name": "stdout"
        }
      ]
    },
    {
      "cell_type": "code",
      "metadata": {
        "colab": {
          "base_uri": "https://localhost:8080/"
        },
        "id": "Ok0jkzX2XEW_",
        "outputId": "a923f220-6ed4-4dd6-9d11-e90b2a095a68"
      },
      "source": [
        "print(*range(5, 25, 2))"
      ],
      "execution_count": null,
      "outputs": [
        {
          "output_type": "stream",
          "text": [
            "5 7 9 11 13 15 17 19 21 23\n"
          ],
          "name": "stdout"
        }
      ]
    },
    {
      "cell_type": "code",
      "metadata": {
        "colab": {
          "base_uri": "https://localhost:8080/"
        },
        "id": "eL24bZeLUPrj",
        "outputId": "63fbd5aa-ea77-4607-8a24-e101b112c69c"
      },
      "source": [
        "\r\n",
        "numbers = range(0, 11)\r\n",
        "\r\n",
        "print(numbers)"
      ],
      "execution_count": null,
      "outputs": [
        {
          "output_type": "stream",
          "text": [
            "range(0, 11)\n"
          ],
          "name": "stdout"
        }
      ]
    },
    {
      "cell_type": "code",
      "metadata": {
        "colab": {
          "base_uri": "https://localhost:8080/"
        },
        "id": "fg7b8Gs4ltLZ",
        "outputId": "747aa3de-5951-458b-fb2e-883fa64fafbf"
      },
      "source": [
        "\"a\"<\"b\"\r\n",
        "ord(\"a\")\r\n",
        "#ord(\"b\")"
      ],
      "execution_count": null,
      "outputs": [
        {
          "output_type": "execute_result",
          "data": {
            "text/plain": [
              "97"
            ]
          },
          "metadata": {
            "tags": []
          },
          "execution_count": 90
        }
      ]
    },
    {
      "cell_type": "code",
      "metadata": {
        "colab": {
          "base_uri": "https://localhost:8080/"
        },
        "id": "sze8Zh9hr4ss",
        "outputId": "8af438e6-f21e-4879-8071-f975bab8a413"
      },
      "source": [
        "evens = [0, 2, 4, 6, 8]\r\n",
        "odds = [1, 3, 5, 7, 9]\r\n",
        "\r\n",
        "for  evens, odds in zip(odds, evens)\r\n",
        "  print(odds,evens)"
      ],
      "execution_count": null,
      "outputs": [
        {
          "output_type": "stream",
          "text": [
            "0 1\n",
            "2 3\n",
            "4 5\n",
            "6 7\n",
            "8 9\n"
          ],
          "name": "stdout"
        }
      ]
    },
    {
      "cell_type": "code",
      "metadata": {
        "colab": {
          "base_uri": "https://localhost:8080/"
        },
        "id": "0vAaWwPUvI46",
        "outputId": "4b0329ce-4205-4b15-adb6-8ca1227fbe62"
      },
      "source": [
        "odds = []\r\n",
        "evens = []\r\n",
        "\r\n",
        "for n in range(10):\r\n",
        "  if n % 2 == 0:\r\n",
        "    evens.append(n)\r\n",
        "  else:\r\n",
        "    odds.append(n)\r\n",
        "\r\n",
        "print(evens)\r\n",
        "print(odds)"
      ],
      "execution_count": null,
      "outputs": [
        {
          "output_type": "stream",
          "text": [
            "[0, 2, 4, 6, 8]\n",
            "[1, 3, 5, 7, 9]\n"
          ],
          "name": "stdout"
        }
      ]
    },
    {
      "cell_type": "code",
      "metadata": {
        "colab": {
          "base_uri": "https://localhost:8080/"
        },
        "id": "LcLzEr0wOjUL",
        "outputId": "fe60fb88-e7b5-4c62-b522-8b40be5b816f"
      },
      "source": [
        "def my_function(a,b) :\r\n",
        "  print(a*b)\r\n",
        "my_function(5,10)\r\n",
        "my_function(3,6)"
      ],
      "execution_count": null,
      "outputs": [
        {
          "output_type": "stream",
          "text": [
            "50\n",
            "18\n"
          ],
          "name": "stdout"
        }
      ]
    },
    {
      "cell_type": "code",
      "metadata": {
        "colab": {
          "base_uri": "https://localhost:8080/"
        },
        "id": "ajkEqZuZeFwt",
        "outputId": "6d1afdcd-d0b7-4569-aef2-ef2bd853630e"
      },
      "source": [
        "odd_even = [11, 2, 24, 61, 48, 33, 3]\r\n",
        "odd = 0\r\n",
        "even =0\r\n",
        "\r\n",
        "for n in odd_even :\r\n",
        "  if n % 2 == 0:\r\n",
        "    even +=1\r\n",
        "  else:\r\n",
        "    odd +=1\r\n",
        "print(even)\r\n",
        "print(odd)\r\n"
      ],
      "execution_count": null,
      "outputs": [
        {
          "output_type": "stream",
          "text": [
            "3\n",
            "4\n"
          ],
          "name": "stdout"
        }
      ]
    },
    {
      "cell_type": "code",
      "metadata": {
        "colab": {
          "base_uri": "https://localhost:8080/"
        },
        "id": "yexK4E5vgFPI",
        "outputId": "646a378a-f730-429c-f213-0e7e5cc04ca9"
      },
      "source": [
        "for i in range(1, 10) :\r\n",
        "  print(str(i)*i)"
      ],
      "execution_count": null,
      "outputs": [
        {
          "output_type": "stream",
          "text": [
            "1\n",
            "22\n",
            "333\n",
            "4444\n",
            "55555\n",
            "666666\n",
            "7777777\n",
            "88888888\n",
            "999999999\n"
          ],
          "name": "stdout"
        }
      ]
    },
    {
      "cell_type": "code",
      "metadata": {
        "colab": {
          "base_uri": "https://localhost:8080/"
        },
        "id": "x_4X9nYQh9h-",
        "outputId": "bad82ea3-4639-4f0f-bb7f-9245a622d18f"
      },
      "source": [
        "sum = 0\r\n",
        "for i in range(1, 75) :\r\n",
        "  sum += i\r\n",
        "print(sum)"
      ],
      "execution_count": null,
      "outputs": [
        {
          "output_type": "stream",
          "text": [
            "2775\n"
          ],
          "name": "stdout"
        }
      ]
    },
    {
      "cell_type": "code",
      "metadata": {
        "colab": {
          "base_uri": "https://localhost:8080/"
        },
        "id": "CZg3fS3jj4kx",
        "outputId": "312c4459-b545-4bac-bc66-88b79017b4f9"
      },
      "source": [
        "who= [\"I am \", \"You are \"]\r\n",
        "mood = [\"happy \", \"confident\"]\r\n",
        "for i in who:\r\n",
        "  for ii in mood:\r\n",
        "    print(i + ii)"
      ],
      "execution_count": null,
      "outputs": [
        {
          "output_type": "stream",
          "text": [
            "I am happy \n",
            "I am confident\n",
            "You are happy \n",
            "You are confident\n"
          ],
          "name": "stdout"
        }
      ]
    },
    {
      "cell_type": "code",
      "metadata": {
        "colab": {
          "base_uri": "https://localhost:8080/"
        },
        "id": "WVrWE8Mrmxmy",
        "outputId": "2f705602-9b11-4fe6-b15e-bc79eda71e65"
      },
      "source": [
        "names = [\"susan \", \"tom \", \"edward \"]\r\n",
        "mood = [\"happy\", \"sad\"] \r\n",
        "\r\n",
        "for i in names:\r\n",
        "  for ii in mood:\r\n",
        "    print(i + \"is \" + ii)"
      ],
      "execution_count": null,
      "outputs": [
        {
          "output_type": "stream",
          "text": [
            "susan is happy\n",
            "susan is sad\n",
            "tom is happy\n",
            "tom is sad\n",
            "edward is happy\n",
            "edward is sad\n"
          ],
          "name": "stdout"
        }
      ]
    },
    {
      "cell_type": "code",
      "metadata": {
        "id": "sVF7cjbHLYVR"
      },
      "source": [
        "ps4_price = 300\r\n",
        "\r\n",
        "question = \"Could I save enough money to sell a PS4 ?\"\r\n",
        "\r\n",
        "while True :\r\n",
        "  saved_amount = int(input('Please enter your saved amount: '))\r\n",
        "\r\n",
        "\r\n",
        "  if saved_amount <= (ps4_price/2) :\r\n",
        "    print(\"You must save more, keep saving!\")\r\n",
        "  elif saved_amount > (ps4_price/2) :\r\n",
        "    print(\"You saved more than half, keep saving!\")\r\n",
        "  else :     # saved_amount > ps4_price \r\n",
        "    print(\"Yippee! You can buy your PS4\")\r\n",
        "    break"
      ],
      "execution_count": null,
      "outputs": []
    },
    {
      "cell_type": "code",
      "metadata": {
        "colab": {
          "base_uri": "https://localhost:8080/"
        },
        "id": "d-DDHUGAbMc6",
        "outputId": "90a7cdec-2a10-4b34-9156-15cbc11a0fba"
      },
      "source": [
        "x = 10\r\n",
        "def my_function_1(): \r\n",
        "    x = 20 \r\n",
        "    print(x)\r\n",
        "print(x)"
      ],
      "execution_count": null,
      "outputs": [
        {
          "output_type": "stream",
          "text": [
            "10\n"
          ],
          "name": "stdout"
        }
      ]
    },
    {
      "cell_type": "code",
      "metadata": {
        "colab": {
          "base_uri": "https://localhost:8080/"
        },
        "id": "JaA5I6GmfM0y",
        "outputId": "4fc99d57-91e7-4edd-9270-a99cf0f07235"
      },
      "source": [
        "def enclosing_func1():\r\n",
        "    x = 'outer variable'\r\n",
        "    def enclosing_func2():\r\n",
        "        nonlocal x  # its inner-value can be used in the outer scope\r\n",
        "        x = 'inner variable'\r\n",
        "        print(\"inner:\", x)\r\n",
        "    enclosing_func2()\r\n",
        "    print(\"outer:\", x)\r\n",
        "\r\n",
        "enclosing_func1() "
      ],
      "execution_count": null,
      "outputs": [
        {
          "output_type": "stream",
          "text": [
            "inner: inner variable\n",
            "outer: inner variable\n"
          ],
          "name": "stdout"
        }
      ]
    },
    {
      "cell_type": "code",
      "metadata": {
        "colab": {
          "base_uri": "https://localhost:8080/"
        },
        "id": "sJeeYZc6iogd",
        "outputId": "83599b00-1555-49bb-b753-5de3c62f738f"
      },
      "source": [
        "x = 10\r\n",
        "  \r\n",
        "def my_function():  # fix me!\r\n",
        "    global x\r\n",
        "    x += 5\r\n",
        "    print(x)\r\n",
        "    #x += 5  \r\n",
        " \r\n",
        "my_function()\r\n",
        "print(x)\r\n"
      ],
      "execution_count": null,
      "outputs": [
        {
          "output_type": "stream",
          "text": [
            "15\n",
            "15\n"
          ],
          "name": "stdout"
        }
      ]
    },
    {
      "cell_type": "code",
      "metadata": {
        "id": "xsgkTx-zpkLf"
      },
      "source": [
        "x = 10\r\n",
        "def my_function_1(): \r\n",
        "    x = 20 \r\n",
        "    print(x)\r\n",
        "my_function_1() \r\n",
        "y = 10  \r\n",
        "def my_function_2(): \r\n",
        "    y += 5 \r\n",
        "    print(y)\r\n",
        "my_function_2()\r\n"
      ],
      "execution_count": null,
      "outputs": []
    },
    {
      "cell_type": "code",
      "metadata": {
        "colab": {
          "base_uri": "https://localhost:8080/"
        },
        "id": "S4DP3tHRuNLl",
        "outputId": "131b3c7e-fa3a-43fe-d3de-c388108c5122"
      },
      "source": [
        "def myfunc1():\r\n",
        "  x = \"hi\"\r\n",
        "  def myfunc2():\r\n",
        "    x = \"hello\"\r\n",
        "  myfunc2() \r\n",
        "  return x\r\n",
        "\r\n",
        "print(myfunc1())"
      ],
      "execution_count": null,
      "outputs": [
        {
          "output_type": "stream",
          "text": [
            "hi\n"
          ],
          "name": "stdout"
        }
      ]
    },
    {
      "cell_type": "code",
      "metadata": {
        "colab": {
          "base_uri": "https://localhost:8080/"
        },
        "id": "cO1616o8wfKI",
        "outputId": "948c4c34-dc4b-448e-edc0-03078663459e"
      },
      "source": [
        "x = 'My name is Richard'\r\n",
        "def my_function_1(): \r\n",
        "    x = 'My name is John' \r\n",
        "\r\n",
        "my_function_1()\r\n",
        "print(x)"
      ],
      "execution_count": null,
      "outputs": [
        {
          "output_type": "stream",
          "text": [
            "My name is Richard\n"
          ],
          "name": "stdout"
        }
      ]
    },
    {
      "cell_type": "code",
      "metadata": {
        "colab": {
          "base_uri": "https://localhost:8080/"
        },
        "id": "NSC5rAPlxHJG",
        "outputId": "abdb8891-a38d-4c7b-c38e-9860104f753a"
      },
      "source": [
        "city = \"I love Paris!\"\r\n",
        "\r\n",
        "def my_function():\r\n",
        "    global city \r\n",
        "    city = \"I love London!\"\r\n",
        "    print(city)\r\n",
        "\r\n",
        "my_function()\r\n",
        "print(city)\r\n",
        "  "
      ],
      "execution_count": null,
      "outputs": [
        {
          "output_type": "stream",
          "text": [
            "I love London!\n",
            "I love London!\n"
          ],
          "name": "stdout"
        }
      ]
    },
    {
      "cell_type": "code",
      "metadata": {
        "id": "x9Irq-Acyv34"
      },
      "source": [
        "def outer():\r\n",
        "    x = \"previous\"   \r\n",
        "    def inner():\r\n",
        "        nonlocal x\r\n",
        "        x = \"later\"\r\n",
        "        print(\"inner:\", x)   \r\n",
        "    inner()\r\n",
        "    print(\"outer:\", x)\r\n"
      ],
      "execution_count": null,
      "outputs": []
    },
    {
      "cell_type": "code",
      "metadata": {
        "colab": {
          "base_uri": "https://localhost:8080/"
        },
        "id": "EIidLznK3yHu",
        "outputId": "3eab4200-1c6d-4191-fe0c-7c7b1c55ff19"
      },
      "source": [
        "def repeater(n):\r\n",
        "    return lambda x: x * n\r\n",
        "    \r\n",
        "repeat_2_times = repeater(2)  # repeats 2 times\r\n",
        "repeat_3_times = repeater(3)  # repeats 3 times\r\n",
        "repeat_4_times = repeater(4)  # repeats 4 times\r\n",
        "\r\n",
        "print(repeat_2_times('alex '))\r\n",
        "print(repeat_3_times('lara '))\r\n",
        "print(repeat_4_times('linda '))"
      ],
      "execution_count": null,
      "outputs": [
        {
          "output_type": "stream",
          "text": [
            "alex alex \n",
            "lara lara lara \n",
            "linda linda linda linda \n"
          ],
          "name": "stdout"
        }
      ]
    },
    {
      "cell_type": "code",
      "metadata": {
        "colab": {
          "base_uri": "https://localhost:8080/"
        },
        "id": "pCMiqCI9y3y2",
        "outputId": "c9933bce-be8a-4514-a26c-6c278847af88"
      },
      "source": [
        "def enclosing_func1():\r\n",
        "    x = 'outer variable'\r\n",
        "    def enclosing_func2():\r\n",
        "        nonlocal x  # its inner-value can be used in the outer scope\r\n",
        "        x = 'inner variable'\r\n",
        "        print(\"inner:\", x)\r\n",
        "    enclosing_func2()\r\n",
        "    print(\"outer:\", x)\r\n",
        "\r\n",
        "enclosing_func1() "
      ],
      "execution_count": null,
      "outputs": [
        {
          "output_type": "stream",
          "text": [
            "inner: inner variable\n",
            "outer: inner variable\n"
          ],
          "name": "stdout"
        }
      ]
    },
    {
      "cell_type": "code",
      "metadata": {
        "colab": {
          "base_uri": "https://localhost:8080/",
          "height": 129
        },
        "id": "HXJWrWIX9sYo",
        "outputId": "1e241b52-34ca-4510-bbfe-f0254b899150"
      },
      "source": [
        "result=lambda echo_word(a,b):a*b\r\n",
        "print(echo_word('hello', 3))"
      ],
      "execution_count": null,
      "outputs": [
        {
          "output_type": "error",
          "ename": "SyntaxError",
          "evalue": "ignored",
          "traceback": [
            "\u001b[0;36m  File \u001b[0;32m\"<ipython-input-78-4e49158b9407>\"\u001b[0;36m, line \u001b[0;32m1\u001b[0m\n\u001b[0;31m    result=lambda echo_word(a,b):a*b\u001b[0m\n\u001b[0m                           ^\u001b[0m\n\u001b[0;31mSyntaxError\u001b[0m\u001b[0;31m:\u001b[0m invalid syntax\n"
          ]
        }
      ]
    },
    {
      "cell_type": "code",
      "metadata": {
        "colab": {
          "base_uri": "https://localhost:8080/"
        },
        "id": "udcfDIGDFMQ9",
        "outputId": "23ce796b-912c-43cd-ccf1-2cd12dfa7845"
      },
      "source": [
        "print((lambda a,b: a*b) ('hello',3))"
      ],
      "execution_count": null,
      "outputs": [
        {
          "output_type": "stream",
          "text": [
            "hellohellohello\n"
          ],
          "name": "stdout"
        }
      ]
    },
    {
      "cell_type": "code",
      "metadata": {
        "colab": {
          "base_uri": "https://localhost:8080/"
        },
        "id": "hyzHS1mTGm9Y",
        "outputId": "44fe8c84-4301-4e8d-a69d-287431da05fa"
      },
      "source": [
        "iterable = [1, 2, 3, 4, 5]\r\n",
        "map(lambda x:x**2, iterable)\r\n",
        "result = map(lambda x:x**2, iterable)\r\n",
        "print(type(result))  # it's a map type\r\n",
        "\r\n",
        "print(list(result))  # we've converted it to list type to print\r\n",
        "\r\n",
        "print(list(map(lambda x:x**2, iterable)))  "
      ],
      "execution_count": null,
      "outputs": [
        {
          "output_type": "stream",
          "text": [
            "<class 'map'>\n",
            "[1, 4, 9, 16, 25]\n",
            "[1, 4, 9, 16, 25]\n"
          ],
          "name": "stdout"
        }
      ]
    },
    {
      "cell_type": "code",
      "metadata": {
        "colab": {
          "base_uri": "https://localhost:8080/"
        },
        "id": "vNjK1MftI0gu",
        "outputId": "5b03c282-123d-4c29-d802-57de54378e7a"
      },
      "source": [
        "letter1 = ['o', 's', 't', 't']\r\n",
        "letter2 = ['n', 'i', 'e', 'w']\r\n",
        "letter3 = ['e', 'x', 'n', 'o']\r\n",
        "numbers = map(lambda x, y, z: x+y+z, letter1, letter2, letter3)\r\n",
        "\r\n",
        "print(list(numbers))"
      ],
      "execution_count": null,
      "outputs": [
        {
          "output_type": "stream",
          "text": [
            "['one', 'six', 'ten', 'two']\n"
          ],
          "name": "stdout"
        }
      ]
    },
    {
      "cell_type": "code",
      "metadata": {
        "colab": {
          "base_uri": "https://localhost:8080/"
        },
        "id": "wB48JrUDJ7y3",
        "outputId": "caba333f-3943-44a4-d666-6be8eb3494fe"
      },
      "source": [
        "number_list = [1, 2, 3, 4, 5]\r\n",
        "#result = map(lambda x:x*3, number_list)\r\n",
        "print(list(map(lambda x:x*3, number_list)))"
      ],
      "execution_count": null,
      "outputs": [
        {
          "output_type": "stream",
          "text": [
            "[3, 6, 9, 12, 15]\n"
          ],
          "name": "stdout"
        }
      ]
    },
    {
      "cell_type": "code",
      "metadata": {
        "colab": {
          "base_uri": "https://localhost:8080/"
        },
        "id": "z4qAb37SM0xx",
        "outputId": "0722e23c-3b86-4f9a-9658-39537f8a3a69"
      },
      "source": [
        "first_ten = [0, 1, 2, 3, 4, 5, 6, 7, 8, 9]  \r\n",
        "even = filter(lambda x:x%2==0, first_ten) \r\n",
        "print(type(even))\r\n",
        "print('Even numbers are :', list(even))"
      ],
      "execution_count": null,
      "outputs": [
        {
          "output_type": "stream",
          "text": [
            "<class 'filter'>\n",
            "Even numbers are : [0, 2, 4, 6, 8]\n"
          ],
          "name": "stdout"
        }
      ]
    },
    {
      "cell_type": "code",
      "metadata": {
        "colab": {
          "base_uri": "https://localhost:8080/"
        },
        "id": "Z0c-h06SM7go",
        "outputId": "999f6f4c-2675-46c3-e4bd-861d844199f1"
      },
      "source": [
        "vowel_list = ['a', 'e', 'i', 'o', 'u']\r\n",
        "first_ten = ['a', 'b', 'c', 'd', 'e', 'f', 'g', 'h', 'i', 'j']\r\n",
        "vowels = filter(lambda x: True if x in vowel_list else False, first_ten) \r\n",
        "print('Vowels are :', list(vowels))"
      ],
      "execution_count": null,
      "outputs": [
        {
          "output_type": "stream",
          "text": [
            "Vowels are : ['a', 'e', 'i']\n"
          ],
          "name": "stdout"
        }
      ]
    },
    {
      "cell_type": "code",
      "metadata": {
        "colab": {
          "base_uri": "https://localhost:8080/"
        },
        "id": "nMmeXKkRNFpi",
        "outputId": "da554d42-f19d-4650-a43d-7ce7238a1b73"
      },
      "source": [
        "number_list = [1, 2, 3, 4, 5, 6, 7, 8, 9, 10]\r\n",
        "result = filter(lambda x: x>5, number_list) \r\n",
        "print(list(result))"
      ],
      "execution_count": null,
      "outputs": [
        {
          "output_type": "stream",
          "text": [
            "[6, 7, 8, 9, 10]\n"
          ],
          "name": "stdout"
        }
      ]
    },
    {
      "cell_type": "code",
      "metadata": {
        "id": "BEiVPLVDaIEc"
      },
      "source": [
        "number_list = [1, 2, 3, 4, 5, 6, 7, 8, 9, 10]\r\n",
        "result = list(filter(lambda x : x >= 6, number_list)) "
      ],
      "execution_count": null,
      "outputs": []
    },
    {
      "cell_type": "code",
      "metadata": {
        "colab": {
          "base_uri": "https://localhost:8080/"
        },
        "id": "f6WUwTByQ_Sf",
        "outputId": "9a612998-3705-4685-fb66-9214e7c4e1bc"
      },
      "source": [
        "y = 10\r\n",
        "def my_function_2():\r\n",
        "    global y\r\n",
        "    y += 5\r\n",
        "    print(y)\r\n",
        "my_function_2()"
      ],
      "execution_count": null,
      "outputs": [
        {
          "output_type": "stream",
          "text": [
            "15\n"
          ],
          "name": "stdout"
        }
      ]
    },
    {
      "cell_type": "code",
      "metadata": {
        "colab": {
          "base_uri": "https://localhost:8080/"
        },
        "id": "LbdZlVXESjDn",
        "outputId": "f2b9c150-167e-4612-e416-7f19ae3fba57"
      },
      "source": [
        "import math\r\n",
        "\r\n",
        "print(dir(math))"
      ],
      "execution_count": null,
      "outputs": [
        {
          "output_type": "stream",
          "text": [
            "['__doc__', '__loader__', '__name__', '__package__', '__spec__', 'acos', 'acosh', 'asin', 'asinh', 'atan', 'atan2', 'atanh', 'ceil', 'copysign', 'cos', 'cosh', 'degrees', 'e', 'erf', 'erfc', 'exp', 'expm1', 'fabs', 'factorial', 'floor', 'fmod', 'frexp', 'fsum', 'gamma', 'gcd', 'hypot', 'inf', 'isclose', 'isfinite', 'isinf', 'isnan', 'ldexp', 'lgamma', 'log', 'log10', 'log1p', 'log2', 'modf', 'nan', 'pi', 'pow', 'radians', 'sin', 'sinh', 'sqrt', 'tan', 'tanh', 'tau', 'trunc']\n"
          ],
          "name": "stdout"
        }
      ]
    },
    {
      "cell_type": "code",
      "metadata": {
        "colab": {
          "base_uri": "https://localhost:8080/"
        },
        "id": "wYpgQeQmSlMy",
        "outputId": "acce705d-b5a7-42dd-c044-1dc9e6455396"
      },
      "source": [
        "from math import pi, factorial, log10  # we'll use the functions directly\r\n",
        "\r\n",
        "print(pi)  # it also contains several arithmetic constants\r\n",
        "print(factorial(4))  # gives the value of 4!\r\n",
        "print(log10(1000)) "
      ],
      "execution_count": null,
      "outputs": [
        {
          "output_type": "stream",
          "text": [
            "3.141592653589793\n",
            "24\n",
            "3.0\n"
          ],
          "name": "stdout"
        }
      ]
    },
    {
      "cell_type": "code",
      "metadata": {
        "id": "RGB4mXVXS3HX"
      },
      "source": [
        "def factor(x):\r\n",
        "\r\n",
        "    result = 1\r\n",
        "    for i in range(x):\r\n",
        "        result *= (i+1)\r\n",
        "    return print(result)"
      ],
      "execution_count": null,
      "outputs": []
    },
    {
      "cell_type": "code",
      "metadata": {
        "colab": {
          "base_uri": "https://localhost:8080/"
        },
        "id": "6H74KF7KWZjZ",
        "outputId": "bdefbaac-4835-463e-e25c-9930830dadae"
      },
      "source": [
        "def my_function_1(a, b):\r\n",
        "    area = a * b\r\n",
        "    return area\r\n",
        "\r\n",
        "def my_function_2(a, b):\r\n",
        "    hypotenuse = (a**2 + b**2)**0.5\r\n",
        "    return hypotenuse\r\n",
        "\r\n",
        "area=my_function_1(10,20)\r\n",
        "\r\n",
        "hypotenuse=my_function_2(30,40)\r\n",
        "\r\n",
        "print(area)\r\n",
        "print(hypotenuse)"
      ],
      "execution_count": null,
      "outputs": [
        {
          "output_type": "stream",
          "text": [
            "200\n",
            "50.0\n"
          ],
          "name": "stdout"
        }
      ]
    },
    {
      "cell_type": "code",
      "metadata": {
        "colab": {
          "base_uri": "https://localhost:8080/",
          "height": 35
        },
        "id": "cjLyMPvPi482",
        "outputId": "bd7ab49f-c889-471f-8700-3e1c479f752e"
      },
      "source": [
        "pwd"
      ],
      "execution_count": null,
      "outputs": [
        {
          "output_type": "execute_result",
          "data": {
            "application/vnd.google.colaboratory.intrinsic+json": {
              "type": "string"
            },
            "text/plain": [
              "'/content'"
            ]
          },
          "metadata": {
            "tags": []
          },
          "execution_count": 121
        }
      ]
    },
    {
      "cell_type": "code",
      "metadata": {
        "colab": {
          "base_uri": "https://localhost:8080/",
          "height": 35
        },
        "id": "5Z6Jtg7z9CQJ",
        "outputId": "72b627c4-f999-438e-a351-3dcc1d2e34fa"
      },
      "source": [
        "(lambda x : x + \":)\")(\"hello\")"
      ],
      "execution_count": null,
      "outputs": [
        {
          "output_type": "execute_result",
          "data": {
            "application/vnd.google.colaboratory.intrinsic+json": {
              "type": "string"
            },
            "text/plain": [
              "'hello:)'"
            ]
          },
          "metadata": {
            "tags": []
          },
          "execution_count": 122
        }
      ]
    },
    {
      "cell_type": "code",
      "metadata": {
        "colab": {
          "base_uri": "https://localhost:8080/"
        },
        "id": "bvazb8pR9uzG",
        "outputId": "d8e34af8-a5e7-4b7a-f1b5-5f5cf6cba059"
      },
      "source": [
        "def functioner(emoji) :\r\n",
        "  return lambda x: x + emoji\r\n",
        "  \r\n",
        "\r\n",
        "functioner(\":)\")"
      ],
      "execution_count": null,
      "outputs": [
        {
          "output_type": "execute_result",
          "data": {
            "text/plain": [
              "<function __main__.functioner.<locals>.<lambda>>"
            ]
          },
          "metadata": {
            "tags": []
          },
          "execution_count": 123
        }
      ]
    },
    {
      "cell_type": "code",
      "metadata": {
        "colab": {
          "base_uri": "https://localhost:8080/"
        },
        "id": "LK5o2UTUCdY7",
        "outputId": "82f2620c-6b22-4559-82a6-fbf583e0c302"
      },
      "source": [
        "def equal(a,b,c):\r\n",
        "  number=[a,b,c]\r\n",
        "  res=number.count(max(number,key=number.count))\r\n",
        "  if res>1:\r\n",
        "    return res \r\n",
        "  else:\r\n",
        "    return 0\r\n",
        "\r\n",
        "equal(3,4,1)"
      ],
      "execution_count": null,
      "outputs": [
        {
          "output_type": "execute_result",
          "data": {
            "text/plain": [
              "0"
            ]
          },
          "metadata": {
            "tags": []
          },
          "execution_count": 126
        }
      ]
    },
    {
      "cell_type": "code",
      "metadata": {
        "colab": {
          "base_uri": "https://localhost:8080/"
        },
        "id": "fLQoixOPDX8L",
        "outputId": "06f0cb49-9b59-4941-f156-0674c10a5218"
      },
      "source": [
        "def equall(* a):\r\n",
        "  numbers =list(a)\r\n",
        "  res=numbers.count(max(numbers, key=numbers.count))\r\n",
        "  if res > 1:\r\n",
        "    return res \r\n",
        "  else:\r\n",
        "    return 0\r\n",
        "\r\n",
        "equall(1,2,1,4,1,6,7,7,7,7,7,7)"
      ],
      "execution_count": null,
      "outputs": [
        {
          "output_type": "execute_result",
          "data": {
            "text/plain": [
              "6"
            ]
          },
          "metadata": {
            "tags": []
          },
          "execution_count": 127
        }
      ]
    },
    {
      "cell_type": "code",
      "metadata": {
        "colab": {
          "base_uri": "https://localhost:8080/"
        },
        "id": "ND4JSSxVEFfG",
        "outputId": "9bb916fc-ed27-40d7-f9e2-d22f17fb5863"
      },
      "source": [
        "equal_lambda= lambda x,y,z :[x,y,z].count(max([x,y,z], key=[x,y,z].count))\\\r\n",
        "if [x,y,z].count(max([x,y,z], key=[x,y,z].count)) > 1 else 0\r\n",
        "\r\n",
        "equal_lambda(2,2,2)   "
      ],
      "execution_count": null,
      "outputs": [
        {
          "output_type": "execute_result",
          "data": {
            "text/plain": [
              "3"
            ]
          },
          "metadata": {
            "tags": []
          },
          "execution_count": 135
        }
      ]
    },
    {
      "cell_type": "code",
      "metadata": {
        "id": "WIC2plxQV0vh"
      },
      "source": [
        "equal_lambda= lambda *x :x.count(max(x), key=x.count)\\\r\n",
        "if x.count(max(x), key=x.count) > 1 else 0\r\n",
        "\r\n",
        "equal_lambda(2)"
      ],
      "execution_count": null,
      "outputs": []
    },
    {
      "cell_type": "code",
      "metadata": {
        "colab": {
          "base_uri": "https://localhost:8080/"
        },
        "id": "PwnHe-glRjmP",
        "outputId": "f3ee32f8-eb1c-4b2b-ef22-43ee2247954f"
      },
      "source": [
        "def func_generator(function_name) :\r\n",
        "  return lambda x : function_name(x)\r\n",
        "\r\n",
        "myPrint=func_generator(print)\r\n",
        "\r\n",
        "myPrint(\"amazing\")"
      ],
      "execution_count": null,
      "outputs": [
        {
          "output_type": "stream",
          "text": [
            "amazing\n"
          ],
          "name": "stdout"
        }
      ]
    },
    {
      "cell_type": "code",
      "metadata": {
        "colab": {
          "base_uri": "https://localhost:8080/"
        },
        "id": "LAedIiHkg03b",
        "outputId": "8e7c2f47-8309-4344-9e0c-9860f2844f70"
      },
      "source": [
        "from math import pi, factorial, log10\r\n",
        "\r\n",
        "print(pi) \r\n",
        "print(factorial(4)) \r\n",
        "print(log10(1000))"
      ],
      "execution_count": null,
      "outputs": [
        {
          "output_type": "stream",
          "text": [
            "3.141592653589793\n",
            "24\n",
            "3.0\n"
          ],
          "name": "stdout"
        }
      ]
    },
    {
      "cell_type": "code",
      "metadata": {
        "colab": {
          "base_uri": "https://localhost:8080/"
        },
        "id": "83doaLWYh9cR",
        "outputId": "c4e36714-a006-4188-c383-3e10f3d439ca"
      },
      "source": [
        "import string as stg\r\n",
        "print(stg.punctuation)\r\n",
        "print(stg.digits)"
      ],
      "execution_count": null,
      "outputs": [
        {
          "output_type": "stream",
          "text": [
            "!\"#$%&'()*+,-./:;<=>?@[\\]^_`{|}~\n",
            "0123456789\n"
          ],
          "name": "stdout"
        }
      ]
    },
    {
      "cell_type": "code",
      "metadata": {
        "colab": {
          "base_uri": "https://localhost:8080/"
        },
        "id": "vo-fAvnfipPd",
        "outputId": "b9874b41-9d15-48e5-c259-f7b6cf0c6576"
      },
      "source": [
        "import datetime\r\n",
        "print(datetime.date.today())\r\n",
        "print(datetime.datetime.now())"
      ],
      "execution_count": null,
      "outputs": [
        {
          "output_type": "stream",
          "text": [
            "2021-01-28\n",
            "2021-01-28 20:03:51.197780\n"
          ],
          "name": "stdout"
        }
      ]
    },
    {
      "cell_type": "code",
      "metadata": {
        "colab": {
          "base_uri": "https://localhost:8080/"
        },
        "id": "ASFb5gsqmVyy",
        "outputId": "7d12b4fc-c2c0-42d9-e154-6d7876e177ba"
      },
      "source": [
        "from datetime import date\r\n",
        "\r\n",
        "birth = date(571, 4, 22)\r\n",
        "death = date(632, 6, 8)\r\n",
        "life_day=date.toordinal(death)-date.toordinal(birth)\r\n",
        "print(life_day) "
      ],
      "execution_count": null,
      "outputs": [
        {
          "output_type": "stream",
          "text": [
            "22327\n"
          ],
          "name": "stdout"
        }
      ]
    },
    {
      "cell_type": "code",
      "metadata": {
        "colab": {
          "base_uri": "https://localhost:8080/"
        },
        "id": "YC9_Xe0foxvr",
        "outputId": "c4029d45-720c-4dfa-b67d-78c1c23f8513"
      },
      "source": [
        "from random import choice\r\n",
        "city=['Stockholm', 'Istanbul', 'Seul', 'Cape Town']\r\n",
        "print(choice(city))"
      ],
      "execution_count": null,
      "outputs": [
        {
          "output_type": "stream",
          "text": [
            "Seul\n"
          ],
          "name": "stdout"
        }
      ]
    },
    {
      "cell_type": "code",
      "metadata": {
        "id": "BYmG8btapVtZ"
      },
      "source": [
        "import earth.europe.kosovo\r\n",
        "\r\n",
        "earth.europe.kosovo.a_function"
      ],
      "execution_count": null,
      "outputs": []
    },
    {
      "cell_type": "code",
      "metadata": {
        "id": "K-nn_RnWr54u"
      },
      "source": [
        "from earth import europe.kosovo\r\n"
      ],
      "execution_count": null,
      "outputs": []
    },
    {
      "cell_type": "code",
      "metadata": {
        "colab": {
          "base_uri": "https://localhost:8080/"
        },
        "id": "wvavh6q8_5cC",
        "outputId": "e9bd30f7-ec19-4104-a94d-2699b207ddb2"
      },
      "source": [
        "odd_even=(lambda x: \"odd\" if x%2 != 0 else \"even\")(5)\r\n",
        "print(\"is\", odd_even)"
      ],
      "execution_count": null,
      "outputs": [
        {
          "output_type": "stream",
          "text": [
            "is odd\n"
          ],
          "name": "stdout"
        }
      ]
    },
    {
      "cell_type": "code",
      "metadata": {
        "id": "NXEu_rg3xMzV"
      },
      "source": [
        "word_list= [['C', 'L'], ['A', 'R', 'U'], ['S', 'W', 'A', 'Y']]\r\n",
        "filter_list= (lambda x,y,z: [x,y,z].count(max([x,y,z], key=[x,y,z].count)) if len([x,y,z].count(max([x,y,z], key=[x,y,z].count)))(word_list)\r\n",
        "print(tuple(filter_list)) "
      ],
      "execution_count": null,
      "outputs": []
    },
    {
      "cell_type": "code",
      "metadata": {
        "colab": {
          "base_uri": "https://localhost:8080/",
          "height": 129
        },
        "id": "Up3LzfC20rmm",
        "outputId": "5d1531d2-21ee-4ea1-c13d-2f82c5eae8e8"
      },
      "source": [
        "word_list= [['C', 'L'], ['A', 'R', 'U'], ['S', 'W', 'A', 'Y']]\r\n",
        "filter_list= (lambda x: list(x).count(max(list(x), key=list(x).count)) if len(list(x).count(max(list(x), key=list(x).count)))(word_list)\r\n",
        "print(filter_list)"
      ],
      "execution_count": null,
      "outputs": [
        {
          "output_type": "error",
          "ename": "SyntaxError",
          "evalue": "ignored",
          "traceback": [
            "\u001b[0;36m  File \u001b[0;32m\"<ipython-input-13-3ceb95393a1b>\"\u001b[0;36m, line \u001b[0;32m3\u001b[0m\n\u001b[0;31m    print(filter_list)\u001b[0m\n\u001b[0m        ^\u001b[0m\n\u001b[0;31mSyntaxError\u001b[0m\u001b[0;31m:\u001b[0m invalid syntax\n"
          ]
        }
      ]
    },
    {
      "cell_type": "code",
      "metadata": {
        "colab": {
          "base_uri": "https://localhost:8080/",
          "height": 129
        },
        "id": "fF-0pUSI50D8",
        "outputId": "32dcb6f9-1000-4248-f688-b98a0b828439"
      },
      "source": [
        "def equal(a,b,c):\r\n",
        "  number=[a,b,c]\r\n",
        "  word_list= [['C', 'L'], ['A', 'R', 'U'], ['S', 'W', 'A', 'Y']]\r\n",
        "  res=.count(max(number,key=number.count))(word_list)\r\n",
        "  if res>1:\r\n",
        "    return res \r\n",
        "  else:\r\n",
        "    return 0\r\n",
        "\r\n",
        "print(res)\r\n"
      ],
      "execution_count": null,
      "outputs": [
        {
          "output_type": "error",
          "ename": "SyntaxError",
          "evalue": "ignored",
          "traceback": [
            "\u001b[0;36m  File \u001b[0;32m\"<ipython-input-20-1a391c9ad43c>\"\u001b[0;36m, line \u001b[0;32m4\u001b[0m\n\u001b[0;31m    res=.count(max(number,key=number.count))(word_list)\u001b[0m\n\u001b[0m        ^\u001b[0m\n\u001b[0;31mSyntaxError\u001b[0m\u001b[0;31m:\u001b[0m invalid syntax\n"
          ]
        }
      ]
    },
    {
      "cell_type": "code",
      "metadata": {
        "id": "a0PFRPxB7LZy",
        "colab": {
          "base_uri": "https://localhost:8080/"
        },
        "outputId": "9684ca23-8d02-4fe2-bfde-20ed5e97b55a"
      },
      "source": [
        " def sum_double(x, y):\r\n",
        "    if x != y :\r\n",
        "        return(x+y)\r\n",
        "    else :\r\n",
        "        return(x+x+y+y)\r\n",
        "\r\n",
        "print(sum_double(2,5))"
      ],
      "execution_count": null,
      "outputs": [
        {
          "output_type": "stream",
          "text": [
            "7\n"
          ],
          "name": "stdout"
        }
      ]
    },
    {
      "cell_type": "code",
      "metadata": {
        "colab": {
          "base_uri": "https://localhost:8080/"
        },
        "id": "9oVcrwUrbFd7",
        "outputId": "4d7ecf3a-b7f0-49ac-fe34-aee43d61b235"
      },
      "source": [
        "def parrot_trouble(talking, hour):\r\n",
        "    \r\n",
        "  if talking == True :\r\n",
        "    if hour<6 :\r\n",
        "      return(True)\r\n",
        "    elif hour>22 :\r\n",
        "      return(True)\r\n",
        "    else :\r\n",
        "      return(False)\r\n",
        "  else :\r\n",
        "      return(False)\r\n",
        "\r\n",
        "print(parrot_trouble(False, 22))"
      ],
      "execution_count": null,
      "outputs": [
        {
          "output_type": "stream",
          "text": [
            "False\n"
          ],
          "name": "stdout"
        }
      ]
    },
    {
      "cell_type": "code",
      "metadata": {
        "colab": {
          "base_uri": "https://localhost:8080/"
        },
        "id": "BCFdS1MYcpiS",
        "outputId": "fc89cb46-6dd4-42df-89e2-0ad62304330e"
      },
      "source": [
        "with open(\"istiklal.txt\", \"r\") as f:\r\n",
        "  print(f.read())"
      ],
      "execution_count": null,
      "outputs": [
        {
          "output_type": "stream",
          "text": [
            "Korkma, sönmez bu şafaklarda yüzen al sancak;\n",
            "Sönmeden yurdumun üstünde tüten en son ocak.\n",
            "O benim milletimin yıldızıdır, parlayacak;\n",
            "O benimdir, o benim milletimindir ancak.\n",
            "Çatma, kurban olayım, çehreni ey nazlı hilal!\n",
            "Kahraman ırkıma bir gül! Ne bu şiddet, bu celal?\n",
            "Sana olmaz dökülen kanlarımız sonra helal...\n",
            "Hakkıdır, hakk'a tapan, milletimin istiklal!\n",
            "Ben ezelden beridir hür yaşadım, hür yaşarım.\n",
            "Hangi çılgın bana zincir vuracakmış? Şaşarım!\n",
            "Kükremiş sel gibiyim, bendimi çiğner, aşarım.\n",
            "Yırtarım dağları, enginlere sığmam, taşarım.\n",
            "Garbın afakını sarmışsa çelik zırhlı duvar,\n",
            "Benim iman dolu göğsüm gibi serhaddim var.\n",
            "Ulusun, korkma! Nasıl böyle bir imanı boğar,\n",
            "'Medeniyet!' dediğin tek dişi kalmış canavar?\n",
            "Arkadaş! Yurduma alçakları uğratma, sakın.\n",
            "Siper et gövdeni, dursun bu hayasızca akın.\n",
            "Doğacaktır sana va'dettigi günler hakk'ın...\n",
            "Kim bilir, belki yarın, belki yarından da yakın.\n",
            "Bastığın yerleri 'toprak!' diyerek geçme, tanı:\n",
            "Düşün altında binlerce kefensiz yatanı.\n",
            "Sen şehit oğlusun, incitme, yazıktır, atanı:\n",
            "Verme, dünyaları alsan da, bu cennet vatanı.\n",
            "Kim bu cennet vatanın uğruna olmaz ki feda?\n",
            "Şuheda fışkıracak toprağı sıksan, şuheda!\n",
            "Canı, cananı, bütün varımı alsın da hüda,\n",
            "Etmesin tek vatanımdan beni dünyada cüda.\n",
            "Ruhumun senden, ilahi, şudur ancak emeli:\n",
            "Değmesin mabedimin göğsüne namahrem eli.\n",
            "Bu ezanlar-ki şahadetleri dinin temeli,\n",
            "Ebedi yurdumun üstünde benim inlemeli.\n"
          ],
          "name": "stdout"
        }
      ]
    },
    {
      "cell_type": "code",
      "metadata": {
        "id": "XUz3S3UOdkQU"
      },
      "source": [
        "with open() as f:"
      ],
      "execution_count": null,
      "outputs": []
    },
    {
      "cell_type": "code",
      "metadata": {
        "id": "l7xT4JwAqs2R"
      },
      "source": [
        ""
      ],
      "execution_count": null,
      "outputs": []
    },
    {
      "cell_type": "code",
      "metadata": {
        "colab": {
          "base_uri": "https://localhost:8080/",
          "height": 231
        },
        "id": "6oGExfKHqy-r",
        "outputId": "fc225b8e-1f6e-4a7a-cfcf-dc86a7e83a9b"
      },
      "source": [
        "import csv\r\n",
        "with open(\"people.csv\", \"r\", \"encoding=utf-8\") as file:\r\n",
        "  csv_rows=csv.reader(file)\r\n",
        "\r\n",
        "  for row in csv_rows:\r\n",
        "    print(row)"
      ],
      "execution_count": null,
      "outputs": [
        {
          "output_type": "error",
          "ename": "TypeError",
          "evalue": "ignored",
          "traceback": [
            "\u001b[0;31m---------------------------------------------------------------------------\u001b[0m",
            "\u001b[0;31mTypeError\u001b[0m                                 Traceback (most recent call last)",
            "\u001b[0;32m<ipython-input-5-b20e55c1727f>\u001b[0m in \u001b[0;36m<module>\u001b[0;34m()\u001b[0m\n\u001b[1;32m      1\u001b[0m \u001b[0;32mimport\u001b[0m \u001b[0mcsv\u001b[0m\u001b[0;34m\u001b[0m\u001b[0;34m\u001b[0m\u001b[0m\n\u001b[0;32m----> 2\u001b[0;31m \u001b[0;32mwith\u001b[0m \u001b[0mopen\u001b[0m\u001b[0;34m(\u001b[0m\u001b[0;34m\"people.csv\"\u001b[0m\u001b[0;34m,\u001b[0m \u001b[0;34m\"r\"\u001b[0m\u001b[0;34m,\u001b[0m \u001b[0;34m\"encoding=utf-8\"\u001b[0m\u001b[0;34m)\u001b[0m \u001b[0;32mas\u001b[0m \u001b[0mfile\u001b[0m\u001b[0;34m:\u001b[0m\u001b[0;34m\u001b[0m\u001b[0;34m\u001b[0m\u001b[0m\n\u001b[0m\u001b[1;32m      3\u001b[0m   \u001b[0mcsv_rows\u001b[0m\u001b[0;34m=\u001b[0m\u001b[0mcsv\u001b[0m\u001b[0;34m.\u001b[0m\u001b[0mreader\u001b[0m\u001b[0;34m(\u001b[0m\u001b[0mfile\u001b[0m\u001b[0;34m)\u001b[0m\u001b[0;34m\u001b[0m\u001b[0;34m\u001b[0m\u001b[0m\n\u001b[1;32m      4\u001b[0m \u001b[0;34m\u001b[0m\u001b[0m\n\u001b[1;32m      5\u001b[0m   \u001b[0;32mfor\u001b[0m \u001b[0mrow\u001b[0m \u001b[0;32min\u001b[0m \u001b[0mcsv_rows\u001b[0m\u001b[0;34m:\u001b[0m\u001b[0;34m\u001b[0m\u001b[0;34m\u001b[0m\u001b[0m\n",
            "\u001b[0;31mTypeError\u001b[0m: an integer is required (got type str)"
          ]
        }
      ]
    },
    {
      "cell_type": "code",
      "metadata": {
        "colab": {
          "base_uri": "https://localhost:8080/"
        },
        "id": "-Mzejw0TmdYL",
        "outputId": "2f1495c8-0ab7-4349-dd1d-d093f19ce6bd"
      },
      "source": [
        "no1=20\r\n",
        "no2=30\r\n",
        "addition= no1 + no2\r\n",
        "\r\n",
        "print(addition)\r\n",
        "print(\"{:,}\".format(addition))"
      ],
      "execution_count": null,
      "outputs": [
        {
          "output_type": "stream",
          "text": [
            "50\n",
            "50\n"
          ],
          "name": "stdout"
        }
      ]
    },
    {
      "cell_type": "code",
      "metadata": {
        "colab": {
          "base_uri": "https://localhost:8080/"
        },
        "id": "Ezt7iuMqntGN",
        "outputId": "e870b706-ddcd-4a54-80d3-264ac362ffab"
      },
      "source": [
        "a, _, c, _=(10,20,30,40)\r\n",
        "a, c"
      ],
      "execution_count": null,
      "outputs": [
        {
          "output_type": "execute_result",
          "data": {
            "text/plain": [
              "(10, 30)"
            ]
          },
          "metadata": {
            "tags": []
          },
          "execution_count": 9
        }
      ]
    },
    {
      "cell_type": "code",
      "metadata": {
        "colab": {
          "base_uri": "https://localhost:8080/"
        },
        "id": "WQYyhcBcn87H",
        "outputId": "8ef7dcac-51bf-4150-d17a-6c2d15149588"
      },
      "source": [
        "x, y, *z = (11, 22, 33, 44, 55)\r\n",
        "z\r\n",
        "x\r\n",
        "y"
      ],
      "execution_count": null,
      "outputs": [
        {
          "output_type": "execute_result",
          "data": {
            "text/plain": [
              "22"
            ]
          },
          "metadata": {
            "tags": []
          },
          "execution_count": 12
        }
      ]
    },
    {
      "cell_type": "code",
      "metadata": {
        "colab": {
          "base_uri": "https://localhost:8080/"
        },
        "id": "hI68h9tIoM6m",
        "outputId": "d1a8c1e6-2267-49da-b19b-22b082d8ca6c"
      },
      "source": [
        "x, y, *z, t=(11, 22, 33, 44, 55)\r\n",
        "x"
      ],
      "execution_count": null,
      "outputs": [
        {
          "output_type": "execute_result",
          "data": {
            "text/plain": [
              "11"
            ]
          },
          "metadata": {
            "tags": []
          },
          "execution_count": 17
        }
      ]
    },
    {
      "cell_type": "code",
      "metadata": {
        "colab": {
          "base_uri": "https://localhost:8080/"
        },
        "id": "-i96OWYwoWkv",
        "outputId": "0222cacd-b006-4d0b-ee12-eb703afcf900"
      },
      "source": [
        "y"
      ],
      "execution_count": null,
      "outputs": [
        {
          "output_type": "execute_result",
          "data": {
            "text/plain": [
              "22"
            ]
          },
          "metadata": {
            "tags": []
          },
          "execution_count": 14
        }
      ]
    },
    {
      "cell_type": "code",
      "metadata": {
        "colab": {
          "base_uri": "https://localhost:8080/"
        },
        "id": "IcqzC-D0oYUo",
        "outputId": "946afc78-dd1d-482e-c043-77ecca9facc0"
      },
      "source": [
        "z"
      ],
      "execution_count": null,
      "outputs": [
        {
          "output_type": "execute_result",
          "data": {
            "text/plain": [
              "[33, 44]"
            ]
          },
          "metadata": {
            "tags": []
          },
          "execution_count": 18
        }
      ]
    },
    {
      "cell_type": "code",
      "metadata": {
        "id": "68Xp4Gygok7f",
        "colab": {
          "base_uri": "https://localhost:8080/"
        },
        "outputId": "348181c5-2d01-4738-84e5-968b257f64a2"
      },
      "source": [
        "t"
      ],
      "execution_count": null,
      "outputs": [
        {
          "output_type": "execute_result",
          "data": {
            "text/plain": [
              "55"
            ]
          },
          "metadata": {
            "tags": []
          },
          "execution_count": 19
        }
      ]
    }
  ]
}