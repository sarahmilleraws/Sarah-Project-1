{
  "nbformat": 4,
  "nbformat_minor": 0,
  "metadata": {
    "colab": {
      "name": "Untitled0.ipynb",
      "provenance": [],
      "collapsed_sections": [],
      "authorship_tag": "ABX9TyOC4Dgs/k0IFX9GH2TqPw98",
      "include_colab_link": true
    },
    "kernelspec": {
      "display_name": "Python 3",
      "name": "python3"
    }
  },
  "cells": [
    {
      "cell_type": "markdown",
      "metadata": {
        "id": "view-in-github",
        "colab_type": "text"
      },
      "source": [
        "<a href=\"https://colab.research.google.com/github/sarahmilleraws/Sarah-Project-1/blob/main/Untitled0.ipynb\" target=\"_parent\"><img src=\"https://colab.research.google.com/assets/colab-badge.svg\" alt=\"Open In Colab\"/></a>"
      ]
    },
    {
      "cell_type": "code",
      "metadata": {
        "colab": {
          "base_uri": "https://localhost:8080/"
        },
        "id": "QuPn_E0uOGhN",
        "outputId": "c54ff70a-8bad-4dcc-b6fa-cbaa139ef87a"
      },
      "source": [
        "A=1000\r\n",
        "f=0.7\r\n",
        "a=1.07\r\n",
        "d=7\r\n",
        "print(float(A*(a)**d))\r\n",
        "im= int(A*(a)**d)\r\n",
        "print(im - A)"
      ],
      "execution_count": null,
      "outputs": [
        {
          "output_type": "stream",
          "text": [
            "1605.7814764784307\n",
            "605\n"
          ],
          "name": "stdout"
        }
      ]
    },
    {
      "cell_type": "code",
      "metadata": {
        "colab": {
          "base_uri": "https://localhost:8080/"
        },
        "id": "EZuqKTy5dKkk",
        "outputId": "d1fb8be0-4aaa-4a41-a92d-70c1fe2044bd"
      },
      "source": [
        "x=\"age\"  # a cigarette addict older than 75 years old.\r\n",
        "y=\"chronic\"  # have a severe chronic disease.\r\n",
        "z=\"immune\" #immune system to weak.\r\n",
        "R=\"risk\"  # 'True:there is a risk of death' and 'False: there is not a risk of death'\r\n",
        "\r\n",
        "x= \" >= 75 \" \r\n",
        "True\r\n",
        "x= \" < 75 \"\r\n",
        "False\r\n",
        "y= \" have a chronic disease \"\r\n",
        "True\r\n",
        "y= \" not have a chronic disease \"\r\n",
        "False\r\n",
        "z= \" immune system to weak \"\r\n",
        "True\r\n",
        "z= \" immune system to strong \"\r\n",
        "False\r\n",
        "\r\n",
        "R=( x and y and z )\r\n",
        "R2=( x or y or z )\r\n",
        "R3=( x and y or z )\r\n",
        "\r\n",
        "print( R )\r\n",
        "print( R2 )\r\n",
        "print( R3 )\r\n",
        "\r\n",
        "x=\"80\"\r\n",
        "y=\" not have a chronic disease\"\r\n",
        "z=\"immune system to strong\""
      ],
      "execution_count": null,
      "outputs": [
        {
          "output_type": "stream",
          "text": [
            " immune system to strong \n",
            " < 75 \n",
            " not have a chronic disease \n"
          ],
          "name": "stdout"
        }
      ]
    },
    {
      "cell_type": "code",
      "metadata": {
        "colab": {
          "base_uri": "https://localhost:8080/"
        },
        "id": "hq72s_iQAayn",
        "outputId": "a6424408-5123-4daf-e1cb-b1ba5e0686bb"
      },
      "source": [
        "#age  #a sigarette addict older than 75\r\n",
        "#chronic   #have a chronic disease\r\n",
        "#immune  #immune system to weak\r\n",
        "# risk: There is a risk of death because of covid-19\r\n",
        "\r\n",
        "age = int(input(\"Enter your age, please: \"))\r\n",
        "chronic = input(\"Are you have a chronic disease? Please answer: Yes/No :\")\r\n",
        "immune = input(\"Is your immune system weak? Please answer: Yes/No :\")\r\n",
        "\r\n",
        "if age > 75: \r\n",
        "  #print(\"Your age is upper than 75.\")\r\n",
        "  if (chronic == \"Yes\") and (immune == \"Yes\"):\r\n",
        "    print(\"You are high risk of death because of covid-19.\")\r\n",
        "  elif (chronic == \"Yes\") and (immune == \"No\"):\r\n",
        "    print(\"You are a risk of death because of covid-19.\")\r\n",
        "  elif (chronic == \"No\") and (immune == \"Yes\"):\r\n",
        "    print(\"You are a risk of death because of covid-19.\")\r\n",
        "  else:\r\n",
        "    print(\"You are a low risk of death because of covid-19.\")\r\n",
        "\r\n",
        "elif age < 75:\r\n",
        "  #print(\"Your age is lower than 75.\")\r\n",
        "  if (chronic == \"Yes\") and (immune == \"Yes\"):\r\n",
        "    print(\"You are a risk of death because of covid-19.\")\r\n",
        "  elif (chronic == \"No\") and (immune == \"Yes\"):\r\n",
        "    print(\"You are a low risk of death because of covid-19.\")\r\n",
        "  else:\r\n",
        "    print(\"You are not a risk of death because of covid-19.\")\r\n",
        "\r\n",
        "else:\r\n",
        "    print(\"You are not a risk of death because of covid-19.\")\r\n"
      ],
      "execution_count": null,
      "outputs": [
        {
          "output_type": "stream",
          "text": [
            "Enter your age, please: 16\n",
            "Are you have a chronic disease? Please answer: Yes/No :No\n",
            "Is your immune system weak? Please answer: Yes/No :No\n",
            "You are not a risk of death because of covid-19\n"
          ],
          "name": "stdout"
        }
      ]
    },
    {
      "cell_type": "code",
      "metadata": {
        "colab": {
          "base_uri": "https://localhost:8080/"
        },
        "id": "2hRlNhH8g6DU",
        "outputId": "768d1424-51a4-41ef-a114-0438dbb0138a"
      },
      "source": [
        "print( False and {} or [] )"
      ],
      "execution_count": null,
      "outputs": [
        {
          "output_type": "stream",
          "text": [
            "[]\n"
          ],
          "name": "stdout"
        }
      ]
    },
    {
      "cell_type": "code",
      "metadata": {
        "colab": {
          "base_uri": "https://localhost:8080/"
        },
        "id": "RdljN-csj96T",
        "outputId": "66dd08ce-c27a-4504-a32b-a1c1330837c1"
      },
      "source": [
        "age= True     # a sigarette addict older than 75\r\n",
        "chronic=True    #have a chronic disease\r\n",
        "immune= False   #immune system to weak\r\n",
        "# risk: There is a risk of death because of covid-19\r\n",
        "\r\n",
        "risk1=age or chronic or immune\r\n",
        "risk2=age or chronic and immune\r\n",
        "risk3=age and chronic and immune\r\n",
        "risk4=age and chronic or immune\r\n",
        "\r\n",
        "print (risk1)\r\n",
        "print(risk2)\r\n",
        "print(risk3)\r\n",
        "print(risk4)"
      ],
      "execution_count": null,
      "outputs": [
        {
          "output_type": "stream",
          "text": [
            "True\n",
            "True\n",
            "False\n",
            "True\n"
          ],
          "name": "stdout"
        }
      ]
    },
    {
      "cell_type": "code",
      "metadata": {
        "colab": {
          "base_uri": "https://localhost:8080/"
        },
        "id": "9_ZgvPAF_5Sc",
        "outputId": "1491570b-2728-437a-8967-af3fc5de0f23"
      },
      "source": [
        "x=False\r\n",
        "y=not x\r\n",
        "print( not ( x and y ) )"
      ],
      "execution_count": null,
      "outputs": [
        {
          "output_type": "stream",
          "text": [
            "True\n"
          ],
          "name": "stdout"
        }
      ]
    },
    {
      "cell_type": "code",
      "metadata": {
        "colab": {
          "base_uri": "https://localhost:8080/"
        },
        "id": "hZanGvCaBO3-",
        "outputId": "dea23b00-5d82-4087-fb78-66454fb85543"
      },
      "source": [
        "print(\"{4} {9} {1} {7} {5} {0} {6} {8} {3} {2}\".format('while', 'dream', 'work.', 'and', 'Some', 'success', 'others', 'of', 'wake up', 'people'))"
      ],
      "execution_count": null,
      "outputs": [
        {
          "output_type": "stream",
          "text": [
            "Some people dream of success while others wake up and work.\n"
          ],
          "name": "stdout"
        }
      ]
    },
    {
      "cell_type": "code",
      "metadata": {
        "colab": {
          "base_uri": "https://localhost:8080/"
        },
        "id": "U8gj0zEsGPSi",
        "outputId": "b7fc5014-c89b-4b21-81bb-ae9be7d99946"
      },
      "source": [
        "print( not None or 1 )"
      ],
      "execution_count": null,
      "outputs": [
        {
          "output_type": "stream",
          "text": [
            "True\n"
          ],
          "name": "stdout"
        }
      ]
    },
    {
      "cell_type": "code",
      "metadata": {
        "colab": {
          "base_uri": "https://localhost:8080/"
        },
        "id": "0mnpkF_3MlvY",
        "outputId": "f6af0241-c2fc-4e49-a70e-620a87335c02"
      },
      "source": [
        "print(float(\"140\" * int(input(\"Enter a number:\" ))))\r\n",
        "print(int(input(\"Enter a number:\" )))"
      ],
      "execution_count": null,
      "outputs": [
        {
          "output_type": "stream",
          "text": [
            "Enter a number:2\n",
            "140140.0\n",
            "Enter a number:2\n",
            "2\n"
          ],
          "name": "stdout"
        }
      ]
    },
    {
      "cell_type": "code",
      "metadata": {
        "colab": {
          "base_uri": "https://localhost:8080/"
        },
        "id": "eSiNZSWEQBFf",
        "outputId": "2f71c1ba-6c64-4da0-b9cf-d6eda5aee5f9"
      },
      "source": [
        "city = \"SARAJEVO\"\r\n",
        "sentence = \"I live in \"\r\n",
        "text = (sentence + f\"{city.capitalize( )}.\")\r\n",
        "print(text)"
      ],
      "execution_count": null,
      "outputs": [
        {
          "output_type": "stream",
          "text": [
            "I live in Sarajevo.\n"
          ],
          "name": "stdout"
        }
      ]
    },
    {
      "cell_type": "code",
      "metadata": {
        "colab": {
          "base_uri": "https://localhost:8080/"
        },
        "id": "CtJ81ha7h17T",
        "outputId": "a1be6e2e-dbbd-4413-bc1b-d4f33f674313"
      },
      "source": [
        "sample=\"{2 ** 3}\"\r\n",
        "print(sample)"
      ],
      "execution_count": null,
      "outputs": [
        {
          "output_type": "stream",
          "text": [
            "{2 ** 3}\n"
          ],
          "name": "stdout"
        }
      ]
    },
    {
      "cell_type": "code",
      "metadata": {
        "colab": {
          "base_uri": "https://localhost:8080/"
        },
        "id": "ZsX_pQsQh214",
        "outputId": "1ee7cacd-6fac-4d25-c7cc-858533f00a38"
      },
      "source": [
        "name = \"mariam\"\r\n",
        "output =  \"My name is\" + \" \" + name.capitalize( )\r\n",
        "print(output)"
      ],
      "execution_count": null,
      "outputs": [
        {
          "output_type": "stream",
          "text": [
            "My name is Mariam\n"
          ],
          "name": "stdout"
        }
      ]
    },
    {
      "cell_type": "code",
      "metadata": {
        "colab": {
          "base_uri": "https://localhost:8080/"
        },
        "id": "x2gt8p-5lV5y",
        "outputId": "36088b60-ba7a-40eb-b606-8ac720e1cccc"
      },
      "source": [
        "text='S0d0me and G0m0re'\r\n",
        "print(text.replace(\"0\", \"o\"))"
      ],
      "execution_count": null,
      "outputs": [
        {
          "output_type": "stream",
          "text": [
            "Sodome and Gomore\n"
          ],
          "name": "stdout"
        }
      ]
    },
    {
      "cell_type": "code",
      "metadata": {
        "colab": {
          "base_uri": "https://localhost:8080/"
        },
        "id": "sVN-AFeNVryC",
        "outputId": "e0513a63-7ac7-41d1-84d2-15e7e316d387"
      },
      "source": [
        "text='tyou cen learn almost everythingz'\r\n",
        "text.strip(\"tz\").upper()\r\n",
        "print(text)"
      ],
      "execution_count": null,
      "outputs": [
        {
          "output_type": "stream",
          "text": [
            "tyou cen learn almost everythingz\n"
          ],
          "name": "stdout"
        }
      ]
    },
    {
      "cell_type": "code",
      "metadata": {
        "colab": {
          "base_uri": "https://localhost:8080/"
        },
        "id": "Q4tuztjKYevM",
        "outputId": "e8f2b2ff-1227-43e9-bc80-6130246c9caf"
      },
      "source": [
        "word = 'clarusway'\r\n",
        "n = 3\r\n",
        "front =\"cla\"\r\n",
        "back =\"usway\"\r\n",
        "print(front + back)"
      ],
      "execution_count": null,
      "outputs": [
        {
          "output_type": "stream",
          "text": [
            "clausway\n"
          ],
          "name": "stdout"
        }
      ]
    },
    {
      "cell_type": "code",
      "metadata": {
        "colab": {
          "base_uri": "https://localhost:8080/"
        },
        "id": "VoNx1b9lZLdZ",
        "outputId": "184485de-0872-47ce-ace5-33bdecfb328f"
      },
      "source": [
        "#Hello! I am a new programmer and I love Clarusway.\r\n",
        "text = \"{}! I am a {} programmer and I {} Clarusway.\".format(\"Hello\", \"new\", \"love\")\r\n",
        "print(text)"
      ],
      "execution_count": null,
      "outputs": [
        {
          "output_type": "stream",
          "text": [
            "Hello! I am a new programmer and I love Clarusway.\n"
          ],
          "name": "stdout"
        }
      ]
    },
    {
      "cell_type": "code",
      "metadata": {
        "colab": {
          "base_uri": "https://localhost:8080/"
        },
        "id": "E_Ie73DPdV4u",
        "outputId": "bd870d20-86d5-49f3-b26e-4b4d9984f9be"
      },
      "source": [
        "city = \"SARAJEVO\"\r\n",
        "text = \"I live in\" + \" \" + f\"{city.capitalize()}.\"\r\n",
        "print(text)"
      ],
      "execution_count": null,
      "outputs": [
        {
          "output_type": "stream",
          "text": [
            "I live in Sarajevo.\n"
          ],
          "name": "stdout"
        }
      ]
    },
    {
      "cell_type": "code",
      "metadata": {
        "colab": {
          "base_uri": "https://localhost:8080/"
        },
        "id": "wD1h_CVZMU6l",
        "outputId": "d31b2f02-5ecf-41f5-bca9-dfe27907ff79"
      },
      "source": [
        "# C = Celcius Temperature\r\n",
        "# F = Fahrenheit Temperature\r\n",
        "C= 35\r\n",
        "F =(C * (1.80) + 32.00)\r\n",
        "\r\n",
        "print(F)"
      ],
      "execution_count": null,
      "outputs": [
        {
          "output_type": "stream",
          "text": [
            "95.0\n"
          ],
          "name": "stdout"
        }
      ]
    },
    {
      "cell_type": "code",
      "metadata": {
        "colab": {
          "base_uri": "https://localhost:8080/"
        },
        "id": "_vjbWMWDcWcQ",
        "outputId": "670cc408-ef2d-4a37-9bf6-e3240abc5b94"
      },
      "source": [
        "# km = kilometer\r\n",
        "# m = mile\r\n",
        "km = 60\r\n",
        "m = ( km / (1.609344))\r\n",
        "\r\n",
        "print(m)"
      ],
      "execution_count": null,
      "outputs": [
        {
          "output_type": "stream",
          "text": [
            "37.28227153424004\n"
          ],
          "name": "stdout"
        }
      ]
    },
    {
      "cell_type": "code",
      "metadata": {
        "colab": {
          "base_uri": "https://localhost:8080/"
        },
        "id": "5ooRh_NM5cdX",
        "outputId": "b69caafc-6d53-4f37-f793-7f3a59ef8b18"
      },
      "source": [
        "print(not 0 and \"write me\")"
      ],
      "execution_count": null,
      "outputs": [
        {
          "output_type": "stream",
          "text": [
            "write me\n"
          ],
          "name": "stdout"
        }
      ]
    },
    {
      "cell_type": "code",
      "metadata": {
        "colab": {
          "base_uri": "https://localhost:8080/"
        },
        "id": "b1laQ1sJFwMu",
        "outputId": "750b6015-fd0a-4e1b-e545-f3797ba38904"
      },
      "source": [
        "warning = 'You must quit smoking!'\r\n",
        "\r\n",
        "print(len(list(warning)))"
      ],
      "execution_count": null,
      "outputs": [
        {
          "output_type": "stream",
          "text": [
            "22\n"
          ],
          "name": "stdout"
        }
      ]
    },
    {
      "cell_type": "code",
      "metadata": {
        "colab": {
          "base_uri": "https://localhost:8080/"
        },
        "id": "gDUil__zOA5O",
        "outputId": "80a4202e-c686-441c-9708-249357d94019"
      },
      "source": [
        "text = \"2020's hard\"\r\n",
        "str_list_1 = list(text)\r\n",
        "str_list_2 = [text]\r\n",
        "print(str_list_1)\r\n",
        "print(str_list_2)"
      ],
      "execution_count": null,
      "outputs": [
        {
          "output_type": "stream",
          "text": [
            "['2', '0', '2', '0', \"'\", 's', ' ', 'h', 'a', 'r', 'd']\n",
            "[\"2020's hard\"]\n"
          ],
          "name": "stdout"
        }
      ]
    },
    {
      "cell_type": "code",
      "metadata": {
        "colab": {
          "base_uri": "https://localhost:8080/",
          "height": 132
        },
        "id": "Ulx3WzrmQZ2n",
        "outputId": "8c8b8d37-8fbb-4e9a-b7b0-f40006368286"
      },
      "source": [
        "a_b_c = 1,000,000\r\n",
        "print(a_b_c)\r\n",
        "a b c = 1000 2000 3000\r\n",
        "print(a b c)"
      ],
      "execution_count": null,
      "outputs": [
        {
          "output_type": "error",
          "ename": "SyntaxError",
          "evalue": "ignored",
          "traceback": [
            "\u001b[0;36m  File \u001b[0;32m\"<ipython-input-2-66076c143e87>\"\u001b[0;36m, line \u001b[0;32m3\u001b[0m\n\u001b[0;31m    a b c = 1000 2000 3000\u001b[0m\n\u001b[0m      ^\u001b[0m\n\u001b[0;31mSyntaxError\u001b[0m\u001b[0;31m:\u001b[0m invalid syntax\n"
          ]
        }
      ]
    },
    {
      "cell_type": "code",
      "metadata": {
        "colab": {
          "base_uri": "https://localhost:8080/"
        },
        "id": "QjytV-SYEI7g",
        "outputId": "416cd3c0-c2e5-4920-f804-6cd380d32eea"
      },
      "source": [
        "print(len([[12, 34, 56]][0]))"
      ],
      "execution_count": null,
      "outputs": [
        {
          "output_type": "stream",
          "text": [
            "3\n"
          ],
          "name": "stdout"
        }
      ]
    },
    {
      "cell_type": "code",
      "metadata": {
        "colab": {
          "base_uri": "https://localhost:8080/",
          "height": 214
        },
        "id": "MdNRsU3Wodrk",
        "outputId": "25829864-d354-4603-827f-2eb6fa0a65a6"
      },
      "source": [
        "mix_value = [10, False, 'fruit', 1.618]\r\n",
        "mix_value.append('vegetable', 2+3j)\r\n",
        "\r\n",
        "print(len(mix_value))"
      ],
      "execution_count": null,
      "outputs": [
        {
          "output_type": "error",
          "ename": "TypeError",
          "evalue": "ignored",
          "traceback": [
            "\u001b[0;31m---------------------------------------------------------------------------\u001b[0m",
            "\u001b[0;31mTypeError\u001b[0m                                 Traceback (most recent call last)",
            "\u001b[0;32m<ipython-input-7-30e92239da55>\u001b[0m in \u001b[0;36m<module>\u001b[0;34m()\u001b[0m\n\u001b[1;32m      1\u001b[0m \u001b[0mmix_value\u001b[0m \u001b[0;34m=\u001b[0m \u001b[0;34m[\u001b[0m\u001b[0;36m10\u001b[0m\u001b[0;34m,\u001b[0m \u001b[0;32mFalse\u001b[0m\u001b[0;34m,\u001b[0m \u001b[0;34m'fruit'\u001b[0m\u001b[0;34m,\u001b[0m \u001b[0;36m1.618\u001b[0m\u001b[0;34m]\u001b[0m\u001b[0;34m\u001b[0m\u001b[0;34m\u001b[0m\u001b[0m\n\u001b[0;32m----> 2\u001b[0;31m \u001b[0mmix_value\u001b[0m\u001b[0;34m.\u001b[0m\u001b[0mappend\u001b[0m\u001b[0;34m(\u001b[0m\u001b[0;34m'vegetable'\u001b[0m\u001b[0;34m,\u001b[0m \u001b[0;36m2\u001b[0m\u001b[0;34m+\u001b[0m\u001b[0;36m3j\u001b[0m\u001b[0;34m)\u001b[0m\u001b[0;34m\u001b[0m\u001b[0;34m\u001b[0m\u001b[0m\n\u001b[0m\u001b[1;32m      3\u001b[0m \u001b[0;34m\u001b[0m\u001b[0m\n\u001b[1;32m      4\u001b[0m \u001b[0mprint\u001b[0m\u001b[0;34m(\u001b[0m\u001b[0mlen\u001b[0m\u001b[0;34m(\u001b[0m\u001b[0mmix_value\u001b[0m\u001b[0;34m)\u001b[0m\u001b[0;34m)\u001b[0m\u001b[0;34m\u001b[0m\u001b[0;34m\u001b[0m\u001b[0m\n",
            "\u001b[0;31mTypeError\u001b[0m: append() takes exactly one argument (2 given)"
          ]
        }
      ]
    },
    {
      "cell_type": "code",
      "metadata": {
        "colab": {
          "base_uri": "https://localhost:8080/"
        },
        "id": "cZNrL89WrBK-",
        "outputId": "ed946339-10d3-4abf-9db2-5c309834fb05"
      },
      "source": [
        "numbers = [3, 6, 7, 8, 1, 2, 5, 9, 10, 4]\r\n",
        "numbers.sort()\r\n",
        "print(numbers)\r\n",
        "\r\n",
        "number_list=list(range(1,11))\r\n",
        "number_list.reverse()\r\n",
        "print(number_list)\r\n",
        "\r\n",
        "number_list=list(range(1,11))\r\n",
        "number_list.sort(reverse=True)\r\n",
        "print(number_list)\r\n"
      ],
      "execution_count": null,
      "outputs": [
        {
          "output_type": "stream",
          "text": [
            "[1, 2, 3, 4, 5, 6, 7, 8, 9, 10]\n",
            "[10, 9, 8, 7, 6, 5, 4, 3, 2, 1]\n",
            "[10, 9, 8, 7, 6, 5, 4, 3, 2, 1]\n"
          ],
          "name": "stdout"
        }
      ]
    },
    {
      "cell_type": "code",
      "metadata": {
        "colab": {
          "base_uri": "https://localhost:8080/"
        },
        "id": "kn4PQvRFbcp_",
        "outputId": "cae84f26-7bde-4453-9ed0-34835f3df145"
      },
      "source": [
        "grocer = [\"banana\", [\"orange\", [\"apple\", \"eggplant\", \"melon\", \"spinach\", \"cheese\", \"leek\" ], \"water\"], \"mandarin\"]\r\n",
        "\r\n",
        "print(grocer[1][2:5:2])"
      ],
      "execution_count": null,
      "outputs": [
        {
          "output_type": "stream",
          "text": [
            "['water']\n"
          ],
          "name": "stdout"
        }
      ]
    },
    {
      "cell_type": "code",
      "metadata": {
        "id": "t0p8VzX6hXsY"
      },
      "source": [
        ""
      ],
      "execution_count": null,
      "outputs": []
    },
    {
      "cell_type": "code",
      "metadata": {
        "colab": {
          "base_uri": "https://localhost:8080/"
        },
        "id": "8VukEFA8v_e6",
        "outputId": "d8e8e908-6b5b-4fdc-b3e0-c785ff80651b"
      },
      "source": [
        "grocer = [\"banana\", [\"orange\", [\"apple\", \"eggplant\", \"melon\", \"spinach\", \"cheese\", \"leek\" ], \"water\"], \"mandarin\"]\r\n",
        "#list_name1=[]\r\n",
        "print(grocer[1][2:5:2])\r\n",
        "print(grocer[1:2:2])"
      ],
      "execution_count": null,
      "outputs": [
        {
          "output_type": "stream",
          "text": [
            "['water']\n",
            "[['orange', ['apple', 'eggplant', 'melon', 'spinach', 'cheese', 'leek'], 'water']]\n"
          ],
          "name": "stdout"
        }
      ]
    },
    {
      "cell_type": "code",
      "metadata": {
        "colab": {
          "base_uri": "https://localhost:8080/"
        },
        "id": "UVs3tkJoiEoT",
        "outputId": "b7b8258a-5540-4c22-c591-94d704174dba"
      },
      "source": [
        "student_ages = {\"Harry\": 29,\r\n",
        "                \"Clark\": 32,\r\n",
        "                \"Peter\": 22,\r\n",
        "                \"Bruce\": 36\r\n",
        "                }\r\n",
        "\r\n",
        "print(student_ages[\"Clark\"])"
      ],
      "execution_count": null,
      "outputs": [
        {
          "output_type": "stream",
          "text": [
            "32\n"
          ],
          "name": "stdout"
        }
      ]
    },
    {
      "cell_type": "code",
      "metadata": {
        "colab": {
          "base_uri": "https://localhost:8080/"
        },
        "id": "u0Ov_MUeI0IG",
        "outputId": "e83d263e-f179-4cb2-e381-b038e67dd9a1"
      },
      "source": [
        "year=2100  # enter a year\r\n",
        "# # prints True if the given year by the user is a leap year, prints False otherwise.\r\n",
        "print(( year%4==0 and not year%100==0 or year%400==0) and True)\r\n"
      ],
      "execution_count": null,
      "outputs": [
        {
          "output_type": "stream",
          "text": [
            "False\n"
          ],
          "name": "stdout"
        }
      ]
    },
    {
      "cell_type": "code",
      "metadata": {
        "colab": {
          "base_uri": "https://localhost:8080/"
        },
        "id": "-SwXBjCgKJJG",
        "outputId": "c0055881-231f-40e0-c8d1-af2139ba3243"
      },
      "source": [
        "year=2008  # prints True if the given year by the user is a leap year, prints False otherwise.\r\n",
        "\r\n",
        "print((not year%4 and year%100 or not year%400) and True)"
      ],
      "execution_count": null,
      "outputs": [
        {
          "output_type": "stream",
          "text": [
            "True\n"
          ],
          "name": "stdout"
        }
      ]
    },
    {
      "cell_type": "code",
      "metadata": {
        "colab": {
          "base_uri": "https://localhost:8080/"
        },
        "id": "anoqUiF-haaG",
        "outputId": "5007d18b-f253-495c-e89d-fe0d79ddf0c0"
      },
      "source": [
        "list=['@', '*_', 'False']\r\n",
        "print(list)"
      ],
      "execution_count": null,
      "outputs": [
        {
          "output_type": "stream",
          "text": [
            "['@', '*_', 'False']\n"
          ],
          "name": "stdout"
        }
      ]
    },
    {
      "cell_type": "code",
      "metadata": {
        "colab": {
          "base_uri": "https://localhost:8080/"
        },
        "id": "B_3azajjnmAl",
        "outputId": "9c9eb51d-3bf6-49e1-93b5-fed74da29ebf"
      },
      "source": [
        "ord(\"@\")\r\n",
        "ord(\"*\")\r\n",
        "ord(\"F\")"
      ],
      "execution_count": null,
      "outputs": [
        {
          "output_type": "execute_result",
          "data": {
            "text/plain": [
              "70"
            ]
          },
          "metadata": {
            "tags": []
          },
          "execution_count": 6
        }
      ]
    },
    {
      "cell_type": "code",
      "metadata": {
        "id": "aFXUWf-1oeg9"
      },
      "source": [
        "city_list=[['New york', ]]"
      ],
      "execution_count": null,
      "outputs": []
    },
    {
      "cell_type": "code",
      "metadata": {
        "colab": {
          "base_uri": "https://localhost:8080/"
        },
        "id": "5sYmPvY94Eww",
        "outputId": "b7557ff0-eeeb-4860-d9aa-e1c7f4994801"
      },
      "source": [
        "print(len(set('listen to the voice of enlisted')))"
      ],
      "execution_count": null,
      "outputs": [
        {
          "output_type": "stream",
          "text": [
            "13\n"
          ],
          "name": "stdout"
        }
      ]
    },
    {
      "cell_type": "code",
      "metadata": {
        "colab": {
          "base_uri": "https://localhost:8080/"
        },
        "id": "kBZ8uTqJxBR5",
        "outputId": "2bf24a61-3473-4e0a-b857-a8a8414843d5"
      },
      "source": [
        "numbers = {}\r\n",
        "\r\n",
        "numbers['x'] = 12\r\n",
        "numbers['y'] = 4\r\n",
        "numbers.update({'z': 3})\r\n",
        "\r\n",
        "print(numbers['x'] + numbers['y'] + numbers['z']**2)"
      ],
      "execution_count": null,
      "outputs": [
        {
          "output_type": "stream",
          "text": [
            "25\n"
          ],
          "name": "stdout"
        }
      ]
    },
    {
      "cell_type": "code",
      "metadata": {
        "colab": {
          "base_uri": "https://localhost:8080/"
        },
        "id": "IWsrzaqALvED",
        "outputId": "210b0440-d272-46d8-debd-ddc654670282"
      },
      "source": [
        "fruits_vegetables = [\"fruit\", \"vegetable\", [\"apple\", \"banana\", [\"mango\", \"avocado\"]], [\"spinach\", \"broccoli\"]]\r\n",
        "\r\n",
        "print(fruits_vegetables[3][0])"
      ],
      "execution_count": null,
      "outputs": [
        {
          "output_type": "stream",
          "text": [
            "spinach\n"
          ],
          "name": "stdout"
        }
      ]
    },
    {
      "cell_type": "code",
      "metadata": {
        "colab": {
          "base_uri": "https://localhost:8080/"
        },
        "id": "ehrWfKx5OlTa",
        "outputId": "e6a57b0f-6702-4a63-9fc1-2f740f276a91"
      },
      "source": [
        "[]\r\n",
        "#list['123']\r\n",
        "#list(123)\r\n",
        "list()\r\n",
        "()\r\n",
        "[123]\r\n",
        "[True, []]\r\n",
        "#list[123]"
      ],
      "execution_count": null,
      "outputs": [
        {
          "output_type": "execute_result",
          "data": {
            "text/plain": [
              "[True, []]"
            ]
          },
          "metadata": {
            "tags": []
          },
          "execution_count": 24
        }
      ]
    },
    {
      "cell_type": "code",
      "metadata": {
        "colab": {
          "base_uri": "https://localhost:8080/"
        },
        "id": "b0wnf8XkRKjC",
        "outputId": "3dd5ee0a-9774-4f0f-b459-d67c8918644d"
      },
      "source": [
        "family_members = ['Meghan', 'Tom', 'Nicole', 'Tim']\r\n",
        "family_members = tuple(list(family_members))\r\n",
        "\r\n",
        "print(family_members)"
      ],
      "execution_count": null,
      "outputs": [
        {
          "output_type": "stream",
          "text": [
            "('Meghan', 'Tom', 'Nicole', 'Tim')\n"
          ],
          "name": "stdout"
        }
      ]
    },
    {
      "cell_type": "code",
      "metadata": {
        "colab": {
          "base_uri": "https://localhost:8080/"
        },
        "id": "26KF-5q5SRbW",
        "outputId": "3d80178d-e8ae-42d4-d5a9-577faf7c040a"
      },
      "source": [
        "numbers = [1, 3, 7, 4, 3, 0, 3, 6, 3, 5, 3, 8, 2, 3]\r\n",
        "\r\n",
        "numbers_1=max(numbers,key=numbers.count)\r\n",
        "\r\n",
        "print('The most frequent number is {result} and it was {repeat} times repeated.'.format(result=numbers_1, repeat=numbers.count(3)))\r\n"
      ],
      "execution_count": null,
      "outputs": [
        {
          "output_type": "stream",
          "text": [
            "The most frequent number is 3 and it was 6 times repeated.\n"
          ],
          "name": "stdout"
        }
      ]
    },
    {
      "cell_type": "code",
      "metadata": {
        "colab": {
          "base_uri": "https://localhost:8080/"
        },
        "id": "ERfgkUXgM3Ok",
        "outputId": "95208a75-8fed-4c9b-f85b-1b5dbd8c1cfd"
      },
      "source": [
        "numbers = [1, 3, 7, 4, 3, 0, 3, 6, 3 , 5, 3, 8, 2, 3]\r\n",
        "\r\n",
        "numbers.count(3)"
      ],
      "execution_count": null,
      "outputs": [
        {
          "output_type": "execute_result",
          "data": {
            "text/plain": [
              "6"
            ]
          },
          "metadata": {
            "tags": []
          },
          "execution_count": 1
        }
      ]
    },
    {
      "cell_type": "code",
      "metadata": {
        "colab": {
          "base_uri": "https://localhost:8080/"
        },
        "id": "jwHmIAa5gZgm",
        "outputId": "ea545e22-5d00-4932-8ed5-8799e2012c07"
      },
      "source": [
        "numbers = [1, 3, 7, 4, 3, 0, 3, 6, 3 , 5, 3, 8, 2, 3]\r\n",
        "\r\n",
        "numbers_1 = max(numbers,key=numbers.count)\r\n",
        "\r\n",
        "print (numbers_1)\r\n",
        "\r\n",
        "numbers_2 = numbers.count(numbers_1)\r\n",
        "\r\n",
        "print(numbers_2)\r\n",
        "\r\n",
        "print('The most frequent number is {result} and it was {repeat} times repeated.'.format(result=numbers_1, repeat=numbers_2))\r\n"
      ],
      "execution_count": null,
      "outputs": [
        {
          "output_type": "stream",
          "text": [
            "3\n",
            "6\n",
            "The most frequent number is 3 and it was 6 times repeated.\n"
          ],
          "name": "stdout"
        }
      ]
    },
    {
      "cell_type": "code",
      "metadata": {
        "colab": {
          "base_uri": "https://localhost:8080/"
        },
        "id": "bMNJnw467gHQ",
        "outputId": "94ef1af1-3c85-46b3-f9ee-c871c5575db7"
      },
      "source": [
        "grocer = [\"banana\", [\"orange\", [\"apple\", \"eggplant\", \"melon\", \"spinach\", \"cheese\", \"leek\" ], \"water\"], \"mandarin\"]\r\n",
        "\r\n",
        "print(grocer[1][1][1:6:2])"
      ],
      "execution_count": null,
      "outputs": [
        {
          "output_type": "stream",
          "text": [
            "['eggplant', 'spinach', 'leek']\n"
          ],
          "name": "stdout"
        }
      ]
    },
    {
      "cell_type": "code",
      "metadata": {
        "colab": {
          "base_uri": "https://localhost:8080/"
        },
        "id": "Fw2p2O_Mr7bt",
        "outputId": "2f058561-b07a-405a-ea00-f8ebf9efe76a"
      },
      "source": [
        "#\"My two favorite flowers are tulip and rose, two favorite colors are blue and green.\"\r\n",
        "\r\n",
        "flowers = [[\"jasmine\", [\"lavender\", \"rose\"], \"tulip\"]]\r\n",
        "colors = [\"red\", (\"blue\", [\"yellow\", \"green\"]), \"pink\"]\r\n",
        "\r\n",
        "flower= (flowers[0][2] + \" \" + \"and\" + \" \"+ flowers[0][1][1])\r\n",
        "color= (colors[1][0]+ \" \" + \"and\" + \" \" + colors[1][1][1])\r\n",
        "\r\n",
        "print(\"My two favourite flowers are {text_1} and two favorite colors are {text_2}.\".format(text_1=flower, text_2=color))"
      ],
      "execution_count": null,
      "outputs": [
        {
          "output_type": "stream",
          "text": [
            "My two favourite flowers are tulip and rose and two favorite colors are blue and green.\n"
          ],
          "name": "stdout"
        }
      ]
    },
    {
      "cell_type": "code",
      "metadata": {
        "colab": {
          "base_uri": "https://localhost:8080/"
        },
        "id": "5kHWB61BIvAG",
        "outputId": "a0c81c56-5c65-4311-d131-18ba0d66b553"
      },
      "source": [
        "flowers = [[\"jasmine\", [\"lavender\", \"rose\"], \"tulip\"]]\r\n",
        "\r\n",
        "flower= (flowers[0][2] + \" \" + \"and\" + \" \"+ flowers[0][1][1])\r\n",
        "\r\n",
        "print(flower)\r\n"
      ],
      "execution_count": null,
      "outputs": [
        {
          "output_type": "stream",
          "text": [
            "tulip and rose\n"
          ],
          "name": "stdout"
        }
      ]
    },
    {
      "cell_type": "code",
      "metadata": {
        "colab": {
          "base_uri": "https://localhost:8080/"
        },
        "id": "gQW64J8Xj4r3",
        "outputId": "c4bd390e-bef0-42e9-f073-54ea87c25823"
      },
      "source": [
        "escapes = [\"\\n\\t\", (\"\\t\", \"\\t\\t\"), [\"\\n\", \"\\n\\t\\t\"]]\r\n",
        "\r\n",
        "sentence = \"I am 40 years old. I have two children. Data Science is my IT domain.\"\r\n",
        "\r\n",
        "sentence = \"I am 40 years old.\\n\\t I have two children.\\n\\t\\t Data Science is my IT domain.\"\r\n",
        "\r\n",
        "sentence_1 = \"I am 40 years old.{} I have two children.{} Data Science is my IT domain.\".format( \"\\n\\t\", \"\\n\\t\\t\")\r\n",
        "\r\n",
        "print(sentence)\r\n",
        "print(sentence_1)"
      ],
      "execution_count": null,
      "outputs": [
        {
          "output_type": "stream",
          "text": [
            "I am 40 years old.\n",
            "\t I have two children.\n",
            "\t\t Data Science is my IT domain.\n",
            "I am 40 years old.\n",
            "\t I have two children.\n",
            "\t\t Data Science is my IT domain.\n"
          ],
          "name": "stdout"
        }
      ]
    },
    {
      "cell_type": "code",
      "metadata": {
        "colab": {
          "base_uri": "https://localhost:8080/"
        },
        "id": "OwSwHHphUA4x",
        "outputId": "ceb8062c-b849-44f9-dcaf-5ea65732b7e0"
      },
      "source": [
        "x=3\r\n",
        "num1=float(x)\r\n",
        "#{:.2f}\".format(num1)\r\n",
        "print(\"{:.2f}\".format(num1))"
      ],
      "execution_count": null,
      "outputs": [
        {
          "output_type": "stream",
          "text": [
            "3.00\n"
          ],
          "name": "stdout"
        }
      ]
    },
    {
      "cell_type": "code",
      "metadata": {
        "colab": {
          "base_uri": "https://localhost:8080/"
        },
        "id": "DpTfhSWo1iq7",
        "outputId": "c4faea9d-f112-47ca-d791-bbf22c7bf6aa"
      },
      "source": [
        "count, fruit, price = (2, 'apple', 3.5)\r\n",
        "\r\n",
        "count, fruit, price = \r\n",
        "\r\n",
        "print(count, fruit, price)\r\n",
        "\r\n"
      ],
      "execution_count": null,
      "outputs": [
        {
          "output_type": "stream",
          "text": [
            "2 apple 3.5\n"
          ],
          "name": "stdout"
        }
      ]
    },
    {
      "cell_type": "code",
      "metadata": {
        "colab": {
          "base_uri": "https://localhost:8080/"
        },
        "id": "1A8HqvPlbzTs",
        "outputId": "0ae3e7b6-e5bf-4cc7-eac5-eda51b496f8b"
      },
      "source": [
        "college_years = ['Freshman', 'Sophomore', 'Junior', 'Senior']\r\n",
        "print(list(enumerate(college_years, 2019)))\r\n"
      ],
      "execution_count": null,
      "outputs": [
        {
          "output_type": "stream",
          "text": [
            "[(2019, 'Freshman'), (2020, 'Sophomore'), (2021, 'Junior'), (2022, 'Senior')]\n"
          ],
          "name": "stdout"
        }
      ]
    },
    {
      "cell_type": "code",
      "metadata": {
        "colab": {
          "base_uri": "https://localhost:8080/"
        },
        "id": "eaZ85fyYg_PY",
        "outputId": "3471510d-a30a-490c-d139-0b9cc131c2f4"
      },
      "source": [
        "str = \"clarusway\"\r\n",
        "\r\n",
        "rem_str = str.replace(\"r\", \"\")\r\n",
        "\r\n",
        "print(rem_str)\r\n",
        "\r\n",
        "rep_str = str[:3] +str[4:9]\r\n",
        "\r\n",
        "print(rep_str)\r\n",
        "\r\n"
      ],
      "execution_count": null,
      "outputs": [
        {
          "output_type": "stream",
          "text": [
            "clausway\n",
            "clausway\n"
          ],
          "name": "stdout"
        }
      ]
    },
    {
      "cell_type": "code",
      "metadata": {
        "colab": {
          "base_uri": "https://localhost:8080/"
        },
        "id": "fUKrf-YkicxU",
        "outputId": "d69e2932-8e1d-47f1-caf6-405e37930687"
      },
      "source": [
        "text= \"{}! I am a {} programmer and I {} Clarusway.\".format(\"Hello\", \"new\", \"love\")\r\n",
        "\r\n",
        "print(text)"
      ],
      "execution_count": null,
      "outputs": [
        {
          "output_type": "stream",
          "text": [
            "Hello! I am a new programmer and I love Clarusway.\n"
          ],
          "name": "stdout"
        }
      ]
    },
    {
      "cell_type": "code",
      "metadata": {
        "colab": {
          "base_uri": "https://localhost:8080/"
        },
        "id": "4VaQosEYjCHX",
        "outputId": "69c0b564-a99c-4850-809b-a9f54f202aea"
      },
      "source": [
        "city= \"SARAJEVO\"\r\n",
        "\r\n",
        "Text=\"I live in\" + \" \" +f\"{city.capitalize()}.\"\r\n",
        "print(Text)"
      ],
      "execution_count": null,
      "outputs": [
        {
          "output_type": "stream",
          "text": [
            "I live in Sarajevo.\n"
          ],
          "name": "stdout"
        }
      ]
    },
    {
      "cell_type": "code",
      "metadata": {
        "colab": {
          "base_uri": "https://localhost:8080/"
        },
        "id": "Fgsy5Hl3kMS8",
        "outputId": "4a6f30e6-58f0-406f-bfb9-513185a30210"
      },
      "source": [
        "city = \"SARAJEVO\"\r\n",
        "text = f\"I live in {city.capitalize()}.\"\r\n",
        "print(text)"
      ],
      "execution_count": null,
      "outputs": [
        {
          "output_type": "stream",
          "text": [
            "I live in Sarajevo.\n"
          ],
          "name": "stdout"
        }
      ]
    },
    {
      "cell_type": "markdown",
      "metadata": {
        "id": "0BKIH6YcWIhL"
      },
      "source": [
        ""
      ]
    },
    {
      "cell_type": "code",
      "metadata": {
        "colab": {
          "base_uri": "https://localhost:8080/"
        },
        "id": "sc6-_BHRXBPt",
        "outputId": "b04b0d8b-2079-4e6a-d271-4e3d71d593a7"
      },
      "source": [
        "name = str(input(\"Enter Your First Name, please: \"))\r\n",
        "\r\n",
        "if name == \"Sarah\" :\r\n",
        "  print(\"Hello Sarah, the password is : Cohort007\")\r\n",
        "else :\r\n",
        "  print(\"Hello\", name ,\"! See you later.\")"
      ],
      "execution_count": null,
      "outputs": [
        {
          "output_type": "stream",
          "text": [
            "Enter Your First Name, please: Sarah\n",
            "Hello Sarah, the password is : Cohort007\n"
          ],
          "name": "stdout"
        }
      ]
    },
    {
      "cell_type": "code",
      "metadata": {
        "colab": {
          "base_uri": "https://localhost:8080/"
        },
        "id": "ZUK0wJnKTFCS",
        "outputId": "09c7718d-959d-4c22-9905-4a1c2beb57f1"
      },
      "source": [
        "def my_function(a, b):\r\n",
        "  my_function = (a**2 +b**2)**0.5\r\n",
        "  print(my_function)\r\n",
        "my_function(3, 4)"
      ],
      "execution_count": null,
      "outputs": [
        {
          "output_type": "stream",
          "text": [
            "5.0\n"
          ],
          "name": "stdout"
        }
      ]
    },
    {
      "cell_type": "code",
      "metadata": {
        "colab": {
          "base_uri": "https://localhost:8080/"
        },
        "id": "eIcm1DXOVY8O",
        "outputId": "b0195e5d-abca-4291-c773-0555fa83fc43"
      },
      "source": [
        "def my_function(a, b):\r\n",
        "    print((a**2 + b**2)**0.5)\r\n",
        "def my_function(a, b):\r\n",
        "    return((a**2 + b**2)**0.5)\r\n",
        "my_function(3, 4)"
      ],
      "execution_count": null,
      "outputs": [
        {
          "output_type": "execute_result",
          "data": {
            "text/plain": [
              "5.0"
            ]
          },
          "metadata": {
            "tags": []
          },
          "execution_count": 5
        }
      ]
    },
    {
      "cell_type": "code",
      "metadata": {
        "colab": {
          "base_uri": "https://localhost:8080/"
        },
        "id": "zGzjhX7vXj89",
        "outputId": "d09cf09c-b43a-47b7-a116-3689308f72b0"
      },
      "source": [
        "def my_function(width, height) :\r\n",
        "    my_function = (width*height)\r\n",
        "    print(my_function)\r\n",
        "def my_function(width, height) :\r\n",
        "    return(width*height)\r\n",
        "my_function(3, 4)\r\n"
      ],
      "execution_count": null,
      "outputs": [
        {
          "output_type": "execute_result",
          "data": {
            "text/plain": [
              "12"
            ]
          },
          "metadata": {
            "tags": []
          },
          "execution_count": 11
        }
      ]
    },
    {
      "cell_type": "code",
      "metadata": {
        "colab": {
          "base_uri": "https://localhost:8080/"
        },
        "id": "gFGXTOnNZq3C",
        "outputId": "3975a916-75c0-4ab7-8c87-1312f097651a"
      },
      "source": [
        "def longer(a, b) :\r\n",
        "    if len(a) >= len(b) :\r\n",
        "        print(a)\r\n",
        "    else :\r\n",
        "        print(b)\r\n",
        "def longer(a, b) :\r\n",
        "  return(len(a) >= len(b))\r\n",
        "\r\n",
        "print(longer('Richard', 'John'))"
      ],
      "execution_count": null,
      "outputs": [
        {
          "output_type": "stream",
          "text": [
            "True\n"
          ],
          "name": "stdout"
        }
      ]
    },
    {
      "cell_type": "code",
      "metadata": {
        "colab": {
          "base_uri": "https://localhost:8080/"
        },
        "id": "BMoGRhlydbsr",
        "outputId": "196d192e-ff08-4a75-b966-fb79466632dc"
      },
      "source": [
        "def longer(a, b) :\r\n",
        "    if len(a) >= len(b) :\r\n",
        "        print(a)\r\n",
        "    else :\r\n",
        "        print(b)\r\n",
        "\r\n",
        "longer('Richard', 'John')\r\n"
      ],
      "execution_count": null,
      "outputs": [
        {
          "output_type": "stream",
          "text": [
            "Richard\n"
          ],
          "name": "stdout"
        }
      ]
    },
    {
      "cell_type": "code",
      "metadata": {
        "colab": {
          "base_uri": "https://localhost:8080/"
        },
        "id": "xpHZNhiuztcq",
        "outputId": "c011464e-66f1-4466-dfea-78e06f8df7fc"
      },
      "source": [
        "def my_function(a,b):\r\n",
        "    print(a*b)\r\n",
        "my_function(10,20)\r\n"
      ],
      "execution_count": null,
      "outputs": [
        {
          "output_type": "stream",
          "text": [
            "200\n"
          ],
          "name": "stdout"
        }
      ]
    },
    {
      "cell_type": "code",
      "metadata": {
        "colab": {
          "base_uri": "https://localhost:8080/"
        },
        "id": "o7m-Geho0jiR",
        "outputId": "0e8a9cd8-698a-4e22-d696-efb85d506cd1"
      },
      "source": [
        "def my_function(a,b):\r\n",
        "  hypotenuse=(a**2+b**2)**0.5\r\n",
        "  return hypotenuse\r\n",
        "my_function(3,4)"
      ],
      "execution_count": null,
      "outputs": [
        {
          "output_type": "execute_result",
          "data": {
            "text/plain": [
              "5.0"
            ]
          },
          "metadata": {
            "tags": []
          },
          "execution_count": 6
        }
      ]
    },
    {
      "cell_type": "code",
      "metadata": {
        "colab": {
          "base_uri": "https://localhost:8080/",
          "height": 129
        },
        "id": "u2ZlVnp45tza",
        "outputId": "53b526a6-e00d-40b9-a416-2810f315d8ef"
      },
      "source": [
        "name = str(input(\"Enter your name, please: \"))\r\n",
        "password = str(input(\"Please, enter your password : \")\r\n",
        "i = password\r\n",
        "\r\n",
        "if name == \"Sarah\":\r\n",
        "  print(\"Hello Sarah\")\r\n",
        "  for i in password :\r\n",
        "    print(password)\r\n",
        "    if password == \"123456789\" :\r\n",
        "      print(\" Have a good work.\")\r\n",
        "    else :\r\n",
        "      print(\"It is wrong, try again!\")\r\n",
        "else:\r\n",
        "  print(\"Hello\", name, \"See you later.\")"
      ],
      "execution_count": null,
      "outputs": [
        {
          "output_type": "error",
          "ename": "SyntaxError",
          "evalue": "ignored",
          "traceback": [
            "\u001b[0;36m  File \u001b[0;32m\"<ipython-input-30-7a0ec51ed9e5>\"\u001b[0;36m, line \u001b[0;32m3\u001b[0m\n\u001b[0;31m    i = password\u001b[0m\n\u001b[0m    ^\u001b[0m\n\u001b[0;31mSyntaxError\u001b[0m\u001b[0;31m:\u001b[0m invalid syntax\n"
          ]
        }
      ]
    },
    {
      "cell_type": "code",
      "metadata": {
        "colab": {
          "base_uri": "https://localhost:8080/",
          "height": 129
        },
        "id": "EJWpiQuc9ytl",
        "outputId": "96ad1986-5871-4956-f94a-7d6d30de6df3"
      },
      "source": [
        "True = False\r\n",
        "while True:\r\n",
        "  print(True)\r\n",
        "  break"
      ],
      "execution_count": null,
      "outputs": [
        {
          "output_type": "error",
          "ename": "SyntaxError",
          "evalue": "ignored",
          "traceback": [
            "\u001b[0;36m  File \u001b[0;32m\"<ipython-input-33-18553b282eb4>\"\u001b[0;36m, line \u001b[0;32m1\u001b[0m\n\u001b[0;31m    True = False\u001b[0m\n\u001b[0m                ^\u001b[0m\n\u001b[0;31mSyntaxError\u001b[0m\u001b[0;31m:\u001b[0m can't assign to keyword\n"
          ]
        }
      ]
    },
    {
      "cell_type": "code",
      "metadata": {
        "colab": {
          "base_uri": "https://localhost:8080/"
        },
        "id": "MHFbgyenVK6f",
        "outputId": "b021404f-21da-4cf2-f493-3240e220d7b7"
      },
      "source": [
        "i =1\r\n",
        "while True:\r\n",
        "  if i%3 == 0:\r\n",
        "    break\r\n",
        "  print(i)\r\n",
        "  i+=1"
      ],
      "execution_count": null,
      "outputs": [
        {
          "output_type": "stream",
          "text": [
            "1\n",
            "2\n"
          ],
          "name": "stdout"
        }
      ]
    },
    {
      "cell_type": "code",
      "metadata": {
        "colab": {
          "base_uri": "https://localhost:8080/"
        },
        "id": "X-xrZcDiVbP-",
        "outputId": "e0d16f19-7aec-4122-8da2-8c0da6a6026a"
      },
      "source": [
        "x=[\"ab\", \"cd\"]\r\n",
        "i=0\r\n",
        "for i in x:\r\n",
        "  i.upper()\r\n",
        "print(x)\r\n"
      ],
      "execution_count": null,
      "outputs": [
        {
          "output_type": "stream",
          "text": [
            "['ab', 'cd']\n"
          ],
          "name": "stdout"
        }
      ]
    },
    {
      "cell_type": "code",
      "metadata": {
        "colab": {
          "base_uri": "https://localhost:8080/"
        },
        "id": "nqaImjWlW414",
        "outputId": "51799eeb-f7f9-44ea-8657-9812bfca965a"
      },
      "source": [
        "i =1\r\n",
        "while True:\r\n",
        "  if i%3 == 0:\r\n",
        "    break\r\n",
        "  print(i)\r\n",
        "\r\n",
        "  i+=1"
      ],
      "execution_count": null,
      "outputs": [
        {
          "output_type": "stream",
          "text": [
            "1\n",
            "2\n"
          ],
          "name": "stdout"
        }
      ]
    },
    {
      "cell_type": "code",
      "metadata": {
        "colab": {
          "base_uri": "https://localhost:8080/"
        },
        "id": "dvx8Lhp8Xqvc",
        "outputId": "893b341b-8885-4363-96c9-fd32fe92e927"
      },
      "source": [
        "x = \"abcd\"\r\n",
        "print(len(x))"
      ],
      "execution_count": null,
      "outputs": [
        {
          "output_type": "stream",
          "text": [
            "4\n"
          ],
          "name": "stdout"
        }
      ]
    },
    {
      "cell_type": "code",
      "metadata": {
        "colab": {
          "base_uri": "https://localhost:8080/",
          "height": 197
        },
        "id": "Vikb35dKaYsE",
        "outputId": "20f6c416-85d2-41a9-a1f6-3a5595cd9502"
      },
      "source": [
        "x = [\"ab\", \"cd\"]\r\n",
        "y = x.upper()\r\n",
        "print(y)"
      ],
      "execution_count": null,
      "outputs": [
        {
          "output_type": "error",
          "ename": "AttributeError",
          "evalue": "ignored",
          "traceback": [
            "\u001b[0;31m---------------------------------------------------------------------------\u001b[0m",
            "\u001b[0;31mAttributeError\u001b[0m                            Traceback (most recent call last)",
            "\u001b[0;32m<ipython-input-47-e37693d22bf3>\u001b[0m in \u001b[0;36m<module>\u001b[0;34m()\u001b[0m\n\u001b[1;32m      1\u001b[0m \u001b[0mx\u001b[0m \u001b[0;34m=\u001b[0m \u001b[0;34m[\u001b[0m\u001b[0;34m\"ab\"\u001b[0m\u001b[0;34m,\u001b[0m \u001b[0;34m\"cd\"\u001b[0m\u001b[0;34m]\u001b[0m\u001b[0;34m\u001b[0m\u001b[0;34m\u001b[0m\u001b[0m\n\u001b[0;32m----> 2\u001b[0;31m \u001b[0my\u001b[0m \u001b[0;34m=\u001b[0m \u001b[0mx\u001b[0m\u001b[0;34m.\u001b[0m\u001b[0mupper\u001b[0m\u001b[0;34m(\u001b[0m\u001b[0;34m)\u001b[0m\u001b[0;34m\u001b[0m\u001b[0;34m\u001b[0m\u001b[0m\n\u001b[0m\u001b[1;32m      3\u001b[0m \u001b[0mprint\u001b[0m\u001b[0;34m(\u001b[0m\u001b[0my\u001b[0m\u001b[0;34m)\u001b[0m\u001b[0;34m\u001b[0m\u001b[0;34m\u001b[0m\u001b[0m\n",
            "\u001b[0;31mAttributeError\u001b[0m: 'list' object has no attribute 'upper'"
          ]
        }
      ]
    },
    {
      "cell_type": "code",
      "metadata": {
        "colab": {
          "base_uri": "https://localhost:8080/"
        },
        "id": "9fnVARdCTB4B",
        "outputId": "48278725-0b40-420b-b2b3-26fd9df8106b"
      },
      "source": [
        "x = \"abcd\"\r\n",
        "for i in range(len(x)):\r\n",
        "  x=\"a\"\r\n",
        "  print(x)"
      ],
      "execution_count": null,
      "outputs": [
        {
          "output_type": "stream",
          "text": [
            "a\n",
            "a\n",
            "a\n",
            "a\n"
          ],
          "name": "stdout"
        }
      ]
    },
    {
      "cell_type": "code",
      "metadata": {
        "colab": {
          "base_uri": "https://localhost:8080/"
        },
        "id": "sJ0oMQA0Bk53",
        "outputId": "e16e0a27-026d-40ca-fb38-4984a1369005"
      },
      "source": [
        "names = [\"susan\", \"tom\", \"false\"]\r\n",
        "mood = [\"happy\", \"sad\", 0]\r\n",
        "empty ={}\r\n",
        "\r\n",
        "print(all(names), all(mood), all(empty), sep=\"/n\")"
      ],
      "execution_count": null,
      "outputs": [
        {
          "output_type": "stream",
          "text": [
            "True/nFalse/nTrue\n"
          ],
          "name": "stdout"
        }
      ]
    },
    {
      "cell_type": "code",
      "metadata": {
        "colab": {
          "base_uri": "https://localhost:8080/"
        },
        "id": "XRse39smClub",
        "outputId": "bec6d6dd-9af7-489c-8fa4-c2c9b08da483"
      },
      "source": [
        "names = [\"susan\", \"tom\", False]\r\n",
        "mood = [None, (), 0]\r\n",
        "empty ={}\r\n",
        "\r\n",
        "print(any(names), any(mood), any(empty), sep=\"/n\")"
      ],
      "execution_count": null,
      "outputs": [
        {
          "output_type": "stream",
          "text": [
            "True/nFalse/nFalse\n"
          ],
          "name": "stdout"
        }
      ]
    },
    {
      "cell_type": "code",
      "metadata": {
        "colab": {
          "base_uri": "https://localhost:8080/"
        },
        "id": "mujwogHqHCrb",
        "outputId": "607f6a92-7b04-4e86-c3c3-ef54b04cf4c1"
      },
      "source": [
        "listA = [\"susan\", \"tom\", False, 0, \"0\"]\r\n",
        "filtered_list = filter(None, listA)\r\n",
        "\r\n",
        "print(\"The filtered elements are : \")\r\n",
        "for i in filtered_list:\r\n",
        "  print(i)\r\n"
      ],
      "execution_count": null,
      "outputs": [
        {
          "output_type": "stream",
          "text": [
            "The filtered elements are : \n",
            "susan\n",
            "tom\n",
            "0\n"
          ],
          "name": "stdout"
        }
      ]
    },
    {
      "cell_type": "code",
      "metadata": {
        "colab": {
          "base_uri": "https://localhost:8080/"
        },
        "id": "6WFLdHHoIVa4",
        "outputId": "040e9f3e-ece6-42b0-d085-0a31d9ba36ce"
      },
      "source": [
        "grocery =[\"bread\", \"water\", \"olive\"]\r\n",
        "enum_grocery= enumerate(grocery)\r\n",
        "print(type(enum_grocery))\r\n",
        "print(list(enum_grocery))\r\n",
        "\r\n",
        "enum_grocery =enumerate(grocery, 10)\r\n",
        "print(list(enum_grocery))"
      ],
      "execution_count": null,
      "outputs": [
        {
          "output_type": "stream",
          "text": [
            "<class 'enumerate'>\n",
            "[(0, 'bread'), (1, 'water'), (2, 'olive')]\n",
            "[(10, 'bread'), (11, 'water'), (12, 'olive')]\n"
          ],
          "name": "stdout"
        }
      ]
    },
    {
      "cell_type": "code",
      "metadata": {
        "colab": {
          "base_uri": "https://localhost:8080/"
        },
        "id": "rFhbe7BIKanH",
        "outputId": "ae04d8c5-05f9-4941-dbb2-1944943c467d"
      },
      "source": [
        "number=[-222, 0, 16, 5, 10, 6]\r\n",
        "largest_number=max(number)\r\n",
        "smallest_number=min(number)\r\n",
        "\r\n",
        "print(largest_number)\r\n",
        "print(smallest_number)"
      ],
      "execution_count": null,
      "outputs": [
        {
          "output_type": "stream",
          "text": [
            "16\n",
            "-222\n"
          ],
          "name": "stdout"
        }
      ]
    },
    {
      "cell_type": "code",
      "metadata": {
        "colab": {
          "base_uri": "https://localhost:8080/"
        },
        "id": "I8fIFtktLam2",
        "outputId": "05a50025-f934-4bc5-fa05-6edd34160b1f"
      },
      "source": [
        "numbers=[2.5, 30, 4, -15]\r\n",
        "\r\n",
        "numbers_sum = sum(numbers)\r\n",
        "print(numbers_sum)\r\n",
        "\r\n",
        "numbers_sum= sum(numbers, 20)\r\n",
        "print(numbers_sum)"
      ],
      "execution_count": null,
      "outputs": [
        {
          "output_type": "stream",
          "text": [
            "21.5\n",
            "41.5\n"
          ],
          "name": "stdout"
        }
      ]
    },
    {
      "cell_type": "code",
      "metadata": {
        "colab": {
          "base_uri": "https://localhost:8080/"
        },
        "id": "2NOriIjyL6R3",
        "outputId": "75148660-b4d3-49fa-c0b5-e9c452e2c712"
      },
      "source": [
        "print(round(12))\r\n",
        "print(round(10.8))\r\n",
        "print(round(3.675,2))"
      ],
      "execution_count": null,
      "outputs": [
        {
          "output_type": "stream",
          "text": [
            "12\n",
            "11\n",
            "3.67\n"
          ],
          "name": "stdout"
        }
      ]
    },
    {
      "cell_type": "code",
      "metadata": {
        "colab": {
          "base_uri": "https://localhost:8080/"
        },
        "id": "ywKczJIYRg6M",
        "outputId": "b294d225-058f-46eb-9238-2c45f5b2ea51"
      },
      "source": [
        "def multiply(a, b):\r\n",
        "  print(a*b)\r\n",
        "multiply(\"amazing\", 3)"
      ],
      "execution_count": null,
      "outputs": [
        {
          "output_type": "stream",
          "text": [
            "amazingamazingamazing\n"
          ],
          "name": "stdout"
        }
      ]
    },
    {
      "cell_type": "code",
      "metadata": {
        "colab": {
          "base_uri": "https://localhost:8080/"
        },
        "id": "UVikaSlVSh90",
        "outputId": "f4f83281-0967-497f-cd4e-a34cce7e864b"
      },
      "source": [
        "def motto():\r\n",
        "  print(\"Don't hesitate to reinvent yourself\")\r\n",
        "motto()"
      ],
      "execution_count": null,
      "outputs": [
        {
          "output_type": "stream",
          "text": [
            "Don't hesitate to reinvent yourself\n"
          ],
          "name": "stdout"
        }
      ]
    },
    {
      "cell_type": "code",
      "metadata": {
        "colab": {
          "base_uri": "https://localhost:8080/",
          "height": 129
        },
        "id": "Q37NiNtMogia",
        "outputId": "d7e271ff-2623-47a4-f0ef-8222e2ba0953"
      },
      "source": [
        "flowers = ['Rose', 'Orchid', 'Tulip']\r\n",
        "count1 = len('Rose')\r\n",
        "count2 = len('Orchid')\r\n",
        "count3 = len('Tulip')\r\n",
        "While count1 > 0 :\r\n",
        "count1\r\n",
        "print(flowers['Rose'])\r\n",
        "count2\r\n",
        "print(flowers['Orchid'])\r\n",
        "count3\r\n",
        "print(flowers['Tulip'])"
      ],
      "execution_count": null,
      "outputs": [
        {
          "output_type": "error",
          "ename": "SyntaxError",
          "evalue": "ignored",
          "traceback": [
            "\u001b[0;36m  File \u001b[0;32m\"<ipython-input-50-8df4fa24c67d>\"\u001b[0;36m, line \u001b[0;32m5\u001b[0m\n\u001b[0;31m    While :\u001b[0m\n\u001b[0m           ^\u001b[0m\n\u001b[0;31mSyntaxError\u001b[0m\u001b[0;31m:\u001b[0m invalid syntax\n"
          ]
        }
      ]
    },
    {
      "cell_type": "code",
      "metadata": {
        "colab": {
          "base_uri": "https://localhost:8080/"
        },
        "id": "XTR8W_3esGpx",
        "outputId": "16641133-4f9f-4a0f-e1c3-a9596905debf"
      },
      "source": [
        "i=0\r\n",
        "for i in range(1, 5):\r\n",
        "  print(i)"
      ],
      "execution_count": null,
      "outputs": [
        {
          "output_type": "stream",
          "text": [
            "1\n",
            "2\n",
            "3\n",
            "4\n"
          ],
          "name": "stdout"
        }
      ]
    },
    {
      "cell_type": "code",
      "metadata": {
        "colab": {
          "base_uri": "https://localhost:8080/"
        },
        "id": "ju4KMffBuDjG",
        "outputId": "1fbd4ab3-4f95-4797-e8cd-b99b6d3301d8"
      },
      "source": [
        "a = 3\r\n",
        "while a**2 < 299:\r\n",
        "    print('I will stop smoking')\r\n",
        "    a += 3"
      ],
      "execution_count": null,
      "outputs": [
        {
          "output_type": "stream",
          "text": [
            "I will stop smoking\n",
            "I will stop smoking\n",
            "I will stop smoking\n",
            "I will stop smoking\n",
            "I will stop smoking\n"
          ],
          "name": "stdout"
        }
      ]
    },
    {
      "cell_type": "code",
      "metadata": {
        "colab": {
          "base_uri": "https://localhost:8080/"
        },
        "id": "4ZbFIQ6t4DyF",
        "outputId": "348189d0-6613-4d51-9a15-30262e1e9c89"
      },
      "source": [
        "ps4_price = 300\r\n",
        "\r\n",
        "saved_amount = int(input('Please enter your saved amount: '))\r\n",
        "\r\n",
        "while True  :\r\n",
        "  if saved_amount <= (ps4_price/2) :\r\n",
        "    print(\"You must save more, keep saving!\")\r\n",
        "    break\r\n",
        "  elif saved_amount > (ps4_price) :\r\n",
        "    print(\"Yippee! You can buy your PS4\")\r\n",
        "    break\r\n",
        "  elif saved_amount > (ps4_price/2) :\r\n",
        "    print(\"You saved more than half, keep saving!\")\r\n",
        "    break"
      ],
      "execution_count": null,
      "outputs": [
        {
          "output_type": "stream",
          "text": [
            "Please enter your saved amount: 250\n",
            "You saved more than half, keep saving!\n"
          ],
          "name": "stdout"
        }
      ]
    },
    {
      "cell_type": "code",
      "metadata": {
        "colab": {
          "base_uri": "https://localhost:8080/"
        },
        "id": "Crzvzeo2S7B0",
        "outputId": "0d0c6fc4-0c09-4bd4-9d70-1b94df904cf8"
      },
      "source": [
        "def animals(**kwargs):\r\n",
        "    for key, value in kwargs.items():\r\n",
        "        print(value, \"are\", key)\r\n",
        " \r\n",
        "animals(Carnivores=\"Lions\", Omnivores=\"Bears\", Herbivores=\"Deers\", \r\n",
        "    Nomnivores=\"Human\")"
      ],
      "execution_count": null,
      "outputs": [
        {
          "output_type": "stream",
          "text": [
            "Lions are Carnivores\n",
            "Bears are Omnivores\n",
            "Deers are Herbivores\n",
            "Human are Nomnivores\n"
          ],
          "name": "stdout"
        }
      ]
    },
    {
      "cell_type": "code",
      "metadata": {
        "colab": {
          "base_uri": "https://localhost:8080/"
        },
        "id": "XkRler0WDgWZ",
        "outputId": "9c0a7c53-fa40-4c99-ceb9-4f21f90f0828"
      },
      "source": [
        "a = 11\r\n",
        "b = 15\r\n",
        "\r\n",
        "if b > a:\r\n",
        "  max = b\r\n",
        "else :\r\n",
        "  max = a\r\n",
        "print(max)"
      ],
      "execution_count": null,
      "outputs": [
        {
          "output_type": "stream",
          "text": [
            "15\n"
          ],
          "name": "stdout"
        }
      ]
    },
    {
      "cell_type": "code",
      "metadata": {
        "colab": {
          "base_uri": "https://localhost:8080/"
        },
        "id": "0FtMWky2G9Xa",
        "outputId": "17dc9030-ceb2-4ee4-e199-319f05df0430"
      },
      "source": [
        "weekdays = ['Monday', 'Tuesday', 'Wednesday', 'Thursday', 'Friday']\r\n",
        "for day in range(len(weekdays)):\r\n",
        "    print('Day', day+1, ':', weekdays[day])"
      ],
      "execution_count": null,
      "outputs": [
        {
          "output_type": "stream",
          "text": [
            "Day 1 : Monday\n",
            "Day 2 : Tuesday\n",
            "Day 3 : Wednesday\n",
            "Day 4 : Thursday\n",
            "Day 5 : Friday\n"
          ],
          "name": "stdout"
        }
      ]
    },
    {
      "cell_type": "code",
      "metadata": {
        "colab": {
          "base_uri": "https://localhost:8080/"
        },
        "id": "5TBnswxGIGtd",
        "outputId": "54a54b7c-0d78-4bfc-a10f-5a1983509ca1"
      },
      "source": [
        "a = 49\r\n",
        "\r\n",
        "while a <= 62 :\r\n",
        "  print(a)\r\n",
        "  a += 5"
      ],
      "execution_count": null,
      "outputs": [
        {
          "output_type": "stream",
          "text": [
            "49\n",
            "54\n",
            "59\n"
          ],
          "name": "stdout"
        }
      ]
    },
    {
      "cell_type": "code",
      "metadata": {
        "colab": {
          "base_uri": "https://localhost:8080/"
        },
        "id": "pNrvZJS8ImiD",
        "outputId": "253559b8-c5ab-4922-eb7a-776a2bce7c41"
      },
      "source": [
        "a = 49\r\n",
        "\r\n",
        "while a % 2 != 0 :\r\n",
        "  print(a)\r\n",
        "  a += 5"
      ],
      "execution_count": null,
      "outputs": [
        {
          "output_type": "stream",
          "text": [
            "49\n"
          ],
          "name": "stdout"
        }
      ]
    },
    {
      "cell_type": "code",
      "metadata": {
        "id": "n45QjaIYI2IB"
      },
      "source": [
        "a = 49\r\n",
        "while a >10 :\r\n",
        "  print(a)\r\n",
        "  break\r\n",
        "  a +=5"
      ],
      "execution_count": null,
      "outputs": []
    },
    {
      "cell_type": "code",
      "metadata": {
        "colab": {
          "base_uri": "https://localhost:8080/"
        },
        "id": "568UWKztJkdM",
        "outputId": "f18a2aea-8f46-4f2a-c5c0-d4dee8112969"
      },
      "source": [
        "month = str(input(\"Please enter a month : \"))\r\n",
        "spring = \"September, April, January\"\r\n",
        "autumn = \"March, October, July\"\r\n",
        "\r\n",
        "if (month in spring) or (month in autumn):\r\n",
        "    if month in autumn:\r\n",
        "        print(\"This is a spring month\")\r\n",
        "    else:\r\n",
        "        print(\"This is an autumn month\")\r\n",
        "else:\r\n",
        "    print(\"This month is not categorized\")"
      ],
      "execution_count": null,
      "outputs": [
        {
          "output_type": "stream",
          "text": [
            "Please enter a month : February\n",
            "This month is not categorized\n"
          ],
          "name": "stdout"
        }
      ]
    },
    {
      "cell_type": "code",
      "metadata": {
        "colab": {
          "base_uri": "https://localhost:8080/"
        },
        "id": "Gi6sDNl9MFLs",
        "outputId": "ddc30f3c-985a-4b57-f380-02b6d07d7358"
      },
      "source": [
        "number = int(input('Please enter a number: '))\r\n",
        "\r\n",
        "while True :\r\n",
        "    for i in range(0, number):\r\n",
        "      print(i * i)\r\n",
        "    break "
      ],
      "execution_count": null,
      "outputs": [
        {
          "output_type": "stream",
          "text": [
            "Please enter a number: 10\n",
            "0\n",
            "1\n",
            "4\n",
            "9\n",
            "16\n",
            "25\n",
            "36\n",
            "49\n",
            "64\n",
            "81\n"
          ],
          "name": "stdout"
        }
      ]
    },
    {
      "cell_type": "code",
      "metadata": {
        "colab": {
          "base_uri": "https://localhost:8080/"
        },
        "id": "pytIn3apTTVT",
        "outputId": "8405d723-a319-467d-be0d-f41e6a201dc8"
      },
      "source": [
        "sample_list = [{\"section\":5, \"topic\":2}, 'clarusway', [1, 4], 2020, 3.14, 1+618j, False, (10, 20)]\r\n",
        "\r\n",
        "for i in sample_list :\r\n",
        "  print(\"The type of\", i, \"is\", type(i))"
      ],
      "execution_count": null,
      "outputs": [
        {
          "output_type": "stream",
          "text": [
            "The type of {'section': 5, 'topic': 2} is <class 'dict'>\n",
            "The type of clarusway is <class 'str'>\n",
            "The type of [1, 4] is <class 'list'>\n",
            "The type of 2020 is <class 'int'>\n",
            "The type of 3.14 is <class 'float'>\n",
            "The type of (1+618j) is <class 'complex'>\n",
            "The type of False is <class 'bool'>\n",
            "The type of (10, 20) is <class 'tuple'>\n"
          ],
          "name": "stdout"
        }
      ]
    },
    {
      "cell_type": "code",
      "metadata": {
        "colab": {
          "base_uri": "https://localhost:8080/"
        },
        "id": "sJu2H9pzVMus",
        "outputId": "eb4391f9-3edd-4abb-c65e-22c7cd8ba2ef"
      },
      "source": [
        "max = a\r\n",
        "if b > max :\r\n",
        "  max = b\r\n",
        "  \r\n",
        "print(max)"
      ],
      "execution_count": null,
      "outputs": [
        {
          "output_type": "stream",
          "text": [
            "991109\n"
          ],
          "name": "stdout"
        }
      ]
    },
    {
      "cell_type": "code",
      "metadata": {
        "colab": {
          "base_uri": "https://localhost:8080/"
        },
        "id": "OTgrNf-HwqHS",
        "outputId": "577e00fd-a2f6-4510-8afb-3527a1a77d20"
      },
      "source": [
        "def add(a, b):\r\n",
        "  print(a+b)\r\n",
        "add(3, 4)"
      ],
      "execution_count": null,
      "outputs": [
        {
          "output_type": "stream",
          "text": [
            "7\n"
          ],
          "name": "stdout"
        }
      ]
    },
    {
      "cell_type": "code",
      "metadata": {
        "colab": {
          "base_uri": "https://localhost:8080/"
        },
        "id": "VZ_HKFs0x54x",
        "outputId": "87d02ea6-2b1e-4134-a5bf-2c6f3b622fd6"
      },
      "source": [
        "def calculator(a, b, math_op) :\r\n",
        " \r\n",
        "    if math_op == \"+\" :\r\n",
        "      print(a+b)\r\n",
        "    elif math_op == \"-\" :\r\n",
        "      print(a-b)\r\n",
        "    elif math_op == \"*\" :\r\n",
        "      print(a*b)\r\n",
        "    elif math_op == \"/\" :\r\n",
        "      print(a/b)\r\n",
        "    else :\r\n",
        "      print(\"Enter valid arguments!\")\r\n",
        "\r\n",
        "calculator(6, 5, \"+\")\r\n"
      ],
      "execution_count": null,
      "outputs": [
        {
          "output_type": "stream",
          "text": [
            "11\n"
          ],
          "name": "stdout"
        }
      ]
    },
    {
      "cell_type": "code",
      "metadata": {
        "id": "N7epZwxG4C40"
      },
      "source": [
        "def calculator(a, b, \"*\")\r\n",
        "  "
      ],
      "execution_count": null,
      "outputs": []
    },
    {
      "cell_type": "code",
      "metadata": {
        "colab": {
          "base_uri": "https://localhost:8080/",
          "height": 197
        },
        "id": "9bMkYOXy5_Dr",
        "outputId": "6d227f23-10a1-4c0a-94ee-8e8cd8e8c2ac"
      },
      "source": [
        "def absolute_value(number) :\r\n",
        "\r\n",
        "  #this value is a absolute value.\r\n",
        "\r\n",
        "  if num >= 0:\r\n",
        "    return num\r\n",
        "  else:\r\n",
        "    return -num\r\n",
        "\r\n",
        "print(absolute_value._doc_)"
      ],
      "execution_count": null,
      "outputs": [
        {
          "output_type": "error",
          "ename": "AttributeError",
          "evalue": "ignored",
          "traceback": [
            "\u001b[0;31m---------------------------------------------------------------------------\u001b[0m",
            "\u001b[0;31mAttributeError\u001b[0m                            Traceback (most recent call last)",
            "\u001b[0;32m<ipython-input-19-adbc12c376d5>\u001b[0m in \u001b[0;36m<module>\u001b[0;34m()\u001b[0m\n\u001b[1;32m      8\u001b[0m     \u001b[0;32mreturn\u001b[0m \u001b[0;34m-\u001b[0m\u001b[0mnum\u001b[0m\u001b[0;34m\u001b[0m\u001b[0;34m\u001b[0m\u001b[0m\n\u001b[1;32m      9\u001b[0m \u001b[0;34m\u001b[0m\u001b[0m\n\u001b[0;32m---> 10\u001b[0;31m \u001b[0mprint\u001b[0m\u001b[0;34m(\u001b[0m\u001b[0mabsolute_value\u001b[0m\u001b[0;34m.\u001b[0m\u001b[0m_doc_\u001b[0m\u001b[0;34m)\u001b[0m\u001b[0;34m\u001b[0m\u001b[0;34m\u001b[0m\u001b[0m\n\u001b[0m",
            "\u001b[0;31mAttributeError\u001b[0m: 'function' object has no attribute '_doc_'"
          ]
        }
      ]
    },
    {
      "cell_type": "code",
      "metadata": {
        "colab": {
          "base_uri": "https://localhost:8080/"
        },
        "id": "rKaAvF0hO0N3",
        "outputId": "4aedc408-b9c9-4677-9535-7af13b99425c"
      },
      "source": [
        "letters = ['a', 'b', 'd', 'e', 'i', 'j', 'x', 't']\r\n",
        "\r\n",
        "vowels = [\"a\", \"e\", \"i\", \"u\", \"o\"]\r\n",
        "\r\n",
        "def filtervowels(letters):\r\n",
        "  if letters in vowels:\r\n",
        "    return True\r\n",
        "  else :\r\n",
        "    return False\r\n",
        "\r\n",
        "filtervowels(\"a\")\r\n",
        "filtered_vowels = filter(filtervowels, letters)\r\n",
        "print(\"The filtered vowels are : \")\r\n",
        "for vowel in filtered_vowels:\r\n",
        "  print(vowel)\r\n",
        "list(filtered_vowels)"
      ],
      "execution_count": null,
      "outputs": [
        {
          "output_type": "stream",
          "text": [
            "The filtered vowels are : \n",
            "a\n",
            "e\n",
            "i\n"
          ],
          "name": "stdout"
        },
        {
          "output_type": "execute_result",
          "data": {
            "text/plain": [
              "[]"
            ]
          },
          "metadata": {
            "tags": []
          },
          "execution_count": 38
        }
      ]
    },
    {
      "cell_type": "code",
      "metadata": {
        "colab": {
          "background_save": true
        },
        "id": "sEqQazH6WI8p"
      },
      "source": [
        "a = \"i\"\r\n",
        "b = \"love\"\r\n",
        "c = \"you\"\r\n",
        "\r\n",
        "def texter(c, a, b) :\r\n",
        "  print(a , b , c)"
      ],
      "execution_count": null,
      "outputs": []
    },
    {
      "cell_type": "code",
      "metadata": {
        "colab": {
          "base_uri": "https://localhost:8080/"
        },
        "id": "P223TR7HAoCL",
        "outputId": "aee5c6dc-0bb0-49a5-ff93-4b73bc2a7778"
      },
      "source": [
        "while True :\r\n",
        "\r\n",
        "  number = input(\"Enter a number : \")\r\n",
        "\r\n",
        "  length=len(number)\r\n",
        "  sum=0\r\n",
        "  for i in range(length) :\r\n",
        "    sum = sum + int(number[i])**length\r\n",
        "  if sum==int(number) :\r\n",
        "    print(number, \"is an Armstrong number!\")\r\n",
        "  elif sum != int(number) :\r\n",
        "    print(number, \"is not an Armstrong number!\")\r\n",
        "    break"
      ],
      "execution_count": null,
      "outputs": [
        {
          "output_type": "stream",
          "text": [
            "Enter a number : 371\n",
            "371 is an Armstrong number!\n",
            "Enter a number : 5639\n",
            "5639 is not an Armstrong number!\n"
          ],
          "name": "stdout"
        }
      ]
    },
    {
      "cell_type": "code",
      "metadata": {
        "colab": {
          "base_uri": "https://localhost:8080/"
        },
        "id": "zuiXidHhGgsS",
        "outputId": "ab0368d1-7e96-44e7-b188-6e011b180e29"
      },
      "source": [
        "number = input(\"Enter a number : \")\r\n",
        "\r\n",
        "if int(number):\r\n",
        "  print(\"it is integer\") \r\n",
        "else :\r\n",
        "  print(\"it is not\")"
      ],
      "execution_count": null,
      "outputs": [
        {
          "output_type": "stream",
          "text": [
            "Enter a number : 32\n",
            "it is integer\n"
          ],
          "name": "stdout"
        }
      ]
    },
    {
      "cell_type": "code",
      "metadata": {
        "id": "ppIJ0Wgz05f-"
      },
      "source": [
        "letter1 = ['o', 's', 't', 't']\r\n",
        "letter2 = ['n', 'i', 'e', 'w']\r\n",
        "letter3 = ['e', 'x', 'n', 'o']\r\n",
        "numbers = map(lambda x, y, z: x+y+z, letter1+letter2+letter3)\r\n",
        "\r\n",
        "print(list(numbers))"
      ],
      "execution_count": null,
      "outputs": []
    },
    {
      "cell_type": "code",
      "metadata": {
        "colab": {
          "base_uri": "https://localhost:8080/",
          "height": 333
        },
        "id": "xugoVtMK9Jad",
        "outputId": "f0dc8c0a-077f-499a-d934-89930c52024b"
      },
      "source": [
        "nums1=[9,6,7,4]\r\n",
        "nums2=[3,6,5,8]\r\n",
        "numbers=map(lambda x, y: (x+y)/2), (nums1, nums2)\r\n",
        "print(list(numbers))"
      ],
      "execution_count": null,
      "outputs": [
        {
          "output_type": "error",
          "ename": "TypeError",
          "evalue": "ignored",
          "traceback": [
            "\u001b[0;31m---------------------------------------------------------------------------\u001b[0m",
            "\u001b[0;31mTypeError\u001b[0m                                 Traceback (most recent call last)",
            "\u001b[0;32m<ipython-input-87-80ee028f1e04>\u001b[0m in \u001b[0;36m<module>\u001b[0;34m()\u001b[0m\n\u001b[1;32m      1\u001b[0m \u001b[0mnums1\u001b[0m\u001b[0;34m=\u001b[0m\u001b[0;34m[\u001b[0m\u001b[0;36m9\u001b[0m\u001b[0;34m,\u001b[0m\u001b[0;36m6\u001b[0m\u001b[0;34m,\u001b[0m\u001b[0;36m7\u001b[0m\u001b[0;34m,\u001b[0m\u001b[0;36m4\u001b[0m\u001b[0;34m]\u001b[0m\u001b[0;34m\u001b[0m\u001b[0;34m\u001b[0m\u001b[0m\n\u001b[1;32m      2\u001b[0m \u001b[0mnums2\u001b[0m\u001b[0;34m=\u001b[0m\u001b[0;34m[\u001b[0m\u001b[0;36m3\u001b[0m\u001b[0;34m,\u001b[0m\u001b[0;36m6\u001b[0m\u001b[0;34m,\u001b[0m\u001b[0;36m5\u001b[0m\u001b[0;34m,\u001b[0m\u001b[0;36m8\u001b[0m\u001b[0;34m]\u001b[0m\u001b[0;34m\u001b[0m\u001b[0;34m\u001b[0m\u001b[0m\n\u001b[0;32m----> 3\u001b[0;31m \u001b[0mnumbers\u001b[0m\u001b[0;34m=\u001b[0m\u001b[0mmap\u001b[0m\u001b[0;34m(\u001b[0m\u001b[0;32mlambda\u001b[0m \u001b[0mx\u001b[0m\u001b[0;34m,\u001b[0m \u001b[0my\u001b[0m\u001b[0;34m:\u001b[0m \u001b[0;34m(\u001b[0m\u001b[0mx\u001b[0m\u001b[0;34m+\u001b[0m\u001b[0my\u001b[0m\u001b[0;34m)\u001b[0m\u001b[0;34m/\u001b[0m\u001b[0;36m2\u001b[0m\u001b[0;34m)\u001b[0m\u001b[0;34m,\u001b[0m \u001b[0;34m(\u001b[0m\u001b[0mnums1\u001b[0m\u001b[0;34m,\u001b[0m \u001b[0mnums2\u001b[0m\u001b[0;34m)\u001b[0m\u001b[0;34m\u001b[0m\u001b[0;34m\u001b[0m\u001b[0m\n\u001b[0m\u001b[1;32m      4\u001b[0m \u001b[0mprint\u001b[0m\u001b[0;34m(\u001b[0m\u001b[0mlist\u001b[0m\u001b[0;34m(\u001b[0m\u001b[0mnumbers\u001b[0m\u001b[0;34m)\u001b[0m\u001b[0;34m)\u001b[0m\u001b[0;34m\u001b[0m\u001b[0;34m\u001b[0m\u001b[0m\n",
            "\u001b[0;32m<ipython-input-51-1323b3b6b099>\u001b[0m in \u001b[0;36mmap\u001b[0;34m(x)\u001b[0m\n\u001b[1;32m      2\u001b[0m \u001b[0;34m\u001b[0m\u001b[0m\n\u001b[1;32m      3\u001b[0m \u001b[0;32mdef\u001b[0m \u001b[0mmap\u001b[0m\u001b[0;34m(\u001b[0m\u001b[0mx\u001b[0m\u001b[0;34m)\u001b[0m\u001b[0;34m:\u001b[0m\u001b[0;34m\u001b[0m\u001b[0;34m\u001b[0m\u001b[0m\n\u001b[0;32m----> 4\u001b[0;31m   \u001b[0mresult\u001b[0m \u001b[0;34m=\u001b[0m \u001b[0mx\u001b[0m\u001b[0;34m**\u001b[0m\u001b[0;36m2\u001b[0m\u001b[0;34m\u001b[0m\u001b[0;34m\u001b[0m\u001b[0m\n\u001b[0m\u001b[1;32m      5\u001b[0m   \u001b[0;32mfor\u001b[0m \u001b[0mx\u001b[0m \u001b[0;32min\u001b[0m \u001b[0miterable\u001b[0m\u001b[0;34m:\u001b[0m\u001b[0;34m\u001b[0m\u001b[0;34m\u001b[0m\u001b[0m\n\u001b[1;32m      6\u001b[0m     \u001b[0mprint\u001b[0m\u001b[0;34m(\u001b[0m\u001b[0mresult\u001b[0m\u001b[0;34m)\u001b[0m\u001b[0;34m\u001b[0m\u001b[0;34m\u001b[0m\u001b[0m\n",
            "\u001b[0;31mTypeError\u001b[0m: unsupported operand type(s) for ** or pow(): 'function' and 'int'"
          ]
        }
      ]
    },
    {
      "cell_type": "code",
      "metadata": {
        "id": "N5QEUptT_bdz",
        "colab": {
          "base_uri": "https://localhost:8080/",
          "height": 231
        },
        "outputId": "1b13996c-c4cf-453f-bfaf-b316e090cabb"
      },
      "source": [
        "word1=[\"you\"]\r\n",
        "word2=[\"i\"]\r\n",
        "word3=[\"love\"]\r\n",
        "sentence=map(lambda x,y,z: x + \" \" + y + \" \" + z, word2, word3, word)\r\n",
        "\r\n",
        "for i in sentence:\r\n",
        "  print(i)"
      ],
      "execution_count": null,
      "outputs": [
        {
          "output_type": "error",
          "ename": "NameError",
          "evalue": "ignored",
          "traceback": [
            "\u001b[0;31m---------------------------------------------------------------------------\u001b[0m",
            "\u001b[0;31mNameError\u001b[0m                                 Traceback (most recent call last)",
            "\u001b[0;32m<ipython-input-88-7b5daadfebe8>\u001b[0m in \u001b[0;36m<module>\u001b[0;34m()\u001b[0m\n\u001b[1;32m      2\u001b[0m \u001b[0mword2\u001b[0m\u001b[0;34m=\u001b[0m\u001b[0;34m[\u001b[0m\u001b[0;34m\"i\"\u001b[0m\u001b[0;34m]\u001b[0m\u001b[0;34m\u001b[0m\u001b[0;34m\u001b[0m\u001b[0m\n\u001b[1;32m      3\u001b[0m \u001b[0mword3\u001b[0m\u001b[0;34m=\u001b[0m\u001b[0;34m[\u001b[0m\u001b[0;34m\"love\"\u001b[0m\u001b[0;34m]\u001b[0m\u001b[0;34m\u001b[0m\u001b[0;34m\u001b[0m\u001b[0m\n\u001b[0;32m----> 4\u001b[0;31m \u001b[0msentence\u001b[0m\u001b[0;34m=\u001b[0m\u001b[0mmap\u001b[0m\u001b[0;34m(\u001b[0m\u001b[0;32mlambda\u001b[0m \u001b[0mx\u001b[0m\u001b[0;34m,\u001b[0m\u001b[0my\u001b[0m\u001b[0;34m,\u001b[0m\u001b[0mz\u001b[0m\u001b[0;34m:\u001b[0m \u001b[0mx\u001b[0m \u001b[0;34m+\u001b[0m \u001b[0;34m\" \"\u001b[0m \u001b[0;34m+\u001b[0m \u001b[0my\u001b[0m \u001b[0;34m+\u001b[0m \u001b[0;34m\" \"\u001b[0m \u001b[0;34m+\u001b[0m \u001b[0mz\u001b[0m\u001b[0;34m,\u001b[0m \u001b[0mword2\u001b[0m\u001b[0;34m,\u001b[0m \u001b[0mword3\u001b[0m\u001b[0;34m,\u001b[0m \u001b[0mword\u001b[0m\u001b[0;34m)\u001b[0m\u001b[0;34m\u001b[0m\u001b[0;34m\u001b[0m\u001b[0m\n\u001b[0m\u001b[1;32m      5\u001b[0m \u001b[0;34m\u001b[0m\u001b[0m\n\u001b[1;32m      6\u001b[0m \u001b[0;32mfor\u001b[0m \u001b[0mi\u001b[0m \u001b[0;32min\u001b[0m \u001b[0msentence\u001b[0m\u001b[0;34m:\u001b[0m\u001b[0;34m\u001b[0m\u001b[0;34m\u001b[0m\u001b[0m\n",
            "\u001b[0;31mNameError\u001b[0m: name 'word' is not defined"
          ]
        }
      ]
    },
    {
      "cell_type": "code",
      "metadata": {
        "id": "ifvqi1oM9xfF"
      },
      "source": [
        ""
      ],
      "execution_count": null,
      "outputs": []
    }
  ]
}